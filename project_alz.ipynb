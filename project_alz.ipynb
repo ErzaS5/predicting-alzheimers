{
 "cells": [
  {
   "cell_type": "code",
   "execution_count": 1,
   "id": "85128c5a",
   "metadata": {},
   "outputs": [],
   "source": [
    "import numpy as np\n",
    "import pandas as pd\n",
    "import matplotlib.pyplot as plt\n",
    "from sklearn.model_selection import train_test_split\n",
    "from sklearn.preprocessing import StandardScaler\n",
    "from sklearn.model_selection import StratifiedKFold\n",
    "from sklearn.neighbors import KNeighborsClassifier\n",
    "from sklearn.metrics import confusion_matrix\n",
    "from sklearn.metrics import ConfusionMatrixDisplay"
   ]
  },
  {
   "cell_type": "code",
   "execution_count": 2,
   "id": "ea5b77e2",
   "metadata": {},
   "outputs": [],
   "source": [
    "df = pd.read_csv('oasis_longitudinal.csv')"
   ]
  },
  {
   "cell_type": "code",
   "execution_count": 3,
   "id": "94cbd44a",
   "metadata": {},
   "outputs": [
    {
     "data": {
      "text/html": [
       "<div>\n",
       "<style scoped>\n",
       "    .dataframe tbody tr th:only-of-type {\n",
       "        vertical-align: middle;\n",
       "    }\n",
       "\n",
       "    .dataframe tbody tr th {\n",
       "        vertical-align: top;\n",
       "    }\n",
       "\n",
       "    .dataframe thead th {\n",
       "        text-align: right;\n",
       "    }\n",
       "</style>\n",
       "<table border=\"1\" class=\"dataframe\">\n",
       "  <thead>\n",
       "    <tr style=\"text-align: right;\">\n",
       "      <th></th>\n",
       "      <th>Subject ID</th>\n",
       "      <th>MRI ID</th>\n",
       "      <th>Group</th>\n",
       "      <th>Visit</th>\n",
       "      <th>MR Delay</th>\n",
       "      <th>M/F</th>\n",
       "      <th>Hand</th>\n",
       "      <th>Age</th>\n",
       "      <th>EDUC</th>\n",
       "      <th>SES</th>\n",
       "      <th>MMSE</th>\n",
       "      <th>CDR</th>\n",
       "      <th>eTIV</th>\n",
       "      <th>nWBV</th>\n",
       "      <th>ASF</th>\n",
       "    </tr>\n",
       "  </thead>\n",
       "  <tbody>\n",
       "    <tr>\n",
       "      <th>0</th>\n",
       "      <td>OAS2_0001</td>\n",
       "      <td>OAS2_0001_MR1</td>\n",
       "      <td>Nondemented</td>\n",
       "      <td>1</td>\n",
       "      <td>0</td>\n",
       "      <td>M</td>\n",
       "      <td>R</td>\n",
       "      <td>87</td>\n",
       "      <td>14</td>\n",
       "      <td>2.0</td>\n",
       "      <td>27.0</td>\n",
       "      <td>0.0</td>\n",
       "      <td>1987</td>\n",
       "      <td>0.696</td>\n",
       "      <td>0.883</td>\n",
       "    </tr>\n",
       "    <tr>\n",
       "      <th>1</th>\n",
       "      <td>OAS2_0001</td>\n",
       "      <td>OAS2_0001_MR2</td>\n",
       "      <td>Nondemented</td>\n",
       "      <td>2</td>\n",
       "      <td>457</td>\n",
       "      <td>M</td>\n",
       "      <td>R</td>\n",
       "      <td>88</td>\n",
       "      <td>14</td>\n",
       "      <td>2.0</td>\n",
       "      <td>30.0</td>\n",
       "      <td>0.0</td>\n",
       "      <td>2004</td>\n",
       "      <td>0.681</td>\n",
       "      <td>0.876</td>\n",
       "    </tr>\n",
       "    <tr>\n",
       "      <th>2</th>\n",
       "      <td>OAS2_0002</td>\n",
       "      <td>OAS2_0002_MR1</td>\n",
       "      <td>Demented</td>\n",
       "      <td>1</td>\n",
       "      <td>0</td>\n",
       "      <td>M</td>\n",
       "      <td>R</td>\n",
       "      <td>75</td>\n",
       "      <td>12</td>\n",
       "      <td>NaN</td>\n",
       "      <td>23.0</td>\n",
       "      <td>0.5</td>\n",
       "      <td>1678</td>\n",
       "      <td>0.736</td>\n",
       "      <td>1.046</td>\n",
       "    </tr>\n",
       "    <tr>\n",
       "      <th>3</th>\n",
       "      <td>OAS2_0002</td>\n",
       "      <td>OAS2_0002_MR2</td>\n",
       "      <td>Demented</td>\n",
       "      <td>2</td>\n",
       "      <td>560</td>\n",
       "      <td>M</td>\n",
       "      <td>R</td>\n",
       "      <td>76</td>\n",
       "      <td>12</td>\n",
       "      <td>NaN</td>\n",
       "      <td>28.0</td>\n",
       "      <td>0.5</td>\n",
       "      <td>1738</td>\n",
       "      <td>0.713</td>\n",
       "      <td>1.010</td>\n",
       "    </tr>\n",
       "    <tr>\n",
       "      <th>4</th>\n",
       "      <td>OAS2_0002</td>\n",
       "      <td>OAS2_0002_MR3</td>\n",
       "      <td>Demented</td>\n",
       "      <td>3</td>\n",
       "      <td>1895</td>\n",
       "      <td>M</td>\n",
       "      <td>R</td>\n",
       "      <td>80</td>\n",
       "      <td>12</td>\n",
       "      <td>NaN</td>\n",
       "      <td>22.0</td>\n",
       "      <td>0.5</td>\n",
       "      <td>1698</td>\n",
       "      <td>0.701</td>\n",
       "      <td>1.034</td>\n",
       "    </tr>\n",
       "  </tbody>\n",
       "</table>\n",
       "</div>"
      ],
      "text/plain": [
       "  Subject ID         MRI ID        Group  Visit  MR Delay M/F Hand  Age  EDUC  \\\n",
       "0  OAS2_0001  OAS2_0001_MR1  Nondemented      1         0   M    R   87    14   \n",
       "1  OAS2_0001  OAS2_0001_MR2  Nondemented      2       457   M    R   88    14   \n",
       "2  OAS2_0002  OAS2_0002_MR1     Demented      1         0   M    R   75    12   \n",
       "3  OAS2_0002  OAS2_0002_MR2     Demented      2       560   M    R   76    12   \n",
       "4  OAS2_0002  OAS2_0002_MR3     Demented      3      1895   M    R   80    12   \n",
       "\n",
       "   SES  MMSE  CDR  eTIV   nWBV    ASF  \n",
       "0  2.0  27.0  0.0  1987  0.696  0.883  \n",
       "1  2.0  30.0  0.0  2004  0.681  0.876  \n",
       "2  NaN  23.0  0.5  1678  0.736  1.046  \n",
       "3  NaN  28.0  0.5  1738  0.713  1.010  \n",
       "4  NaN  22.0  0.5  1698  0.701  1.034  "
      ]
     },
     "execution_count": 3,
     "metadata": {},
     "output_type": "execute_result"
    }
   ],
   "source": [
    "df.head()"
   ]
  },
  {
   "cell_type": "code",
   "execution_count": 4,
   "id": "e453d58e",
   "metadata": {},
   "outputs": [
    {
     "data": {
      "text/plain": [
       "Subject ID     0\n",
       "MRI ID         0\n",
       "Group          0\n",
       "Visit          0\n",
       "MR Delay       0\n",
       "M/F            0\n",
       "Hand           0\n",
       "Age            0\n",
       "EDUC           0\n",
       "SES           19\n",
       "MMSE           2\n",
       "CDR            0\n",
       "eTIV           0\n",
       "nWBV           0\n",
       "ASF            0\n",
       "dtype: int64"
      ]
     },
     "execution_count": 4,
     "metadata": {},
     "output_type": "execute_result"
    }
   ],
   "source": [
    "df.isna().sum()"
   ]
  },
  {
   "cell_type": "code",
   "execution_count": 4,
   "id": "6e62a71a",
   "metadata": {},
   "outputs": [],
   "source": [
    "df['SES'].fillna(df['SES'].mean(), inplace=True)"
   ]
  },
  {
   "cell_type": "code",
   "execution_count": 6,
   "id": "ba63dd3b",
   "metadata": {},
   "outputs": [
    {
     "data": {
      "text/plain": [
       "Subject ID    0\n",
       "MRI ID        0\n",
       "Group         0\n",
       "Visit         0\n",
       "MR Delay      0\n",
       "M/F           0\n",
       "Hand          0\n",
       "Age           0\n",
       "EDUC          0\n",
       "SES           0\n",
       "MMSE          2\n",
       "CDR           0\n",
       "eTIV          0\n",
       "nWBV          0\n",
       "ASF           0\n",
       "dtype: int64"
      ]
     },
     "execution_count": 6,
     "metadata": {},
     "output_type": "execute_result"
    }
   ],
   "source": [
    "df.isna().sum()"
   ]
  },
  {
   "cell_type": "code",
   "execution_count": 5,
   "id": "ad315d98",
   "metadata": {},
   "outputs": [],
   "source": [
    "df.dropna(axis=0,inplace=True)"
   ]
  },
  {
   "cell_type": "code",
   "execution_count": 6,
   "id": "2f562510",
   "metadata": {},
   "outputs": [
    {
     "data": {
      "text/plain": [
       "Subject ID    0\n",
       "MRI ID        0\n",
       "Group         0\n",
       "Visit         0\n",
       "MR Delay      0\n",
       "M/F           0\n",
       "Hand          0\n",
       "Age           0\n",
       "EDUC          0\n",
       "SES           0\n",
       "MMSE          0\n",
       "CDR           0\n",
       "eTIV          0\n",
       "nWBV          0\n",
       "ASF           0\n",
       "dtype: int64"
      ]
     },
     "execution_count": 6,
     "metadata": {},
     "output_type": "execute_result"
    }
   ],
   "source": [
    "df.isna().sum()"
   ]
  },
  {
   "cell_type": "code",
   "execution_count": 7,
   "id": "eb8ff731",
   "metadata": {},
   "outputs": [],
   "source": [
    "df.drop(['Hand', 'MRI ID', 'Subject ID', 'Visit'], axis=1, inplace=True)"
   ]
  },
  {
   "cell_type": "code",
   "execution_count": 8,
   "id": "7fdd0ba5",
   "metadata": {},
   "outputs": [],
   "source": [
    "df['M/F'] = df['M/F'].replace(['M','F'], [0,1])"
   ]
  },
  {
   "cell_type": "code",
   "execution_count": 9,
   "id": "408141b7",
   "metadata": {},
   "outputs": [],
   "source": [
    "df['Group'] = df['Group'].replace(['Converted'], ['Demented'])"
   ]
  },
  {
   "cell_type": "code",
   "execution_count": 10,
   "id": "ee1e7687",
   "metadata": {},
   "outputs": [],
   "source": [
    "df['Group'] = df['Group'].replace(['Demented', 'Nondemented'], [1,0])"
   ]
  },
  {
   "cell_type": "code",
   "execution_count": 11,
   "id": "4af15dd5",
   "metadata": {},
   "outputs": [
    {
     "data": {
      "text/html": [
       "<div>\n",
       "<style scoped>\n",
       "    .dataframe tbody tr th:only-of-type {\n",
       "        vertical-align: middle;\n",
       "    }\n",
       "\n",
       "    .dataframe tbody tr th {\n",
       "        vertical-align: top;\n",
       "    }\n",
       "\n",
       "    .dataframe thead th {\n",
       "        text-align: right;\n",
       "    }\n",
       "</style>\n",
       "<table border=\"1\" class=\"dataframe\">\n",
       "  <thead>\n",
       "    <tr style=\"text-align: right;\">\n",
       "      <th></th>\n",
       "      <th>Group</th>\n",
       "      <th>MR Delay</th>\n",
       "      <th>M/F</th>\n",
       "      <th>Age</th>\n",
       "      <th>EDUC</th>\n",
       "      <th>SES</th>\n",
       "      <th>MMSE</th>\n",
       "      <th>CDR</th>\n",
       "      <th>eTIV</th>\n",
       "      <th>nWBV</th>\n",
       "      <th>ASF</th>\n",
       "    </tr>\n",
       "  </thead>\n",
       "  <tbody>\n",
       "    <tr>\n",
       "      <th>count</th>\n",
       "      <td>371.000000</td>\n",
       "      <td>371.000000</td>\n",
       "      <td>371.000000</td>\n",
       "      <td>371.000000</td>\n",
       "      <td>371.000000</td>\n",
       "      <td>371.000000</td>\n",
       "      <td>371.000000</td>\n",
       "      <td>371.000000</td>\n",
       "      <td>371.000000</td>\n",
       "      <td>371.000000</td>\n",
       "      <td>371.000000</td>\n",
       "    </tr>\n",
       "    <tr>\n",
       "      <th>mean</th>\n",
       "      <td>0.487871</td>\n",
       "      <td>593.876011</td>\n",
       "      <td>0.568733</td>\n",
       "      <td>77.018868</td>\n",
       "      <td>14.611860</td>\n",
       "      <td>2.460452</td>\n",
       "      <td>27.342318</td>\n",
       "      <td>0.287062</td>\n",
       "      <td>1489.876011</td>\n",
       "      <td>0.729526</td>\n",
       "      <td>1.193776</td>\n",
       "    </tr>\n",
       "    <tr>\n",
       "      <th>std</th>\n",
       "      <td>0.500528</td>\n",
       "      <td>636.636500</td>\n",
       "      <td>0.495922</td>\n",
       "      <td>7.660864</td>\n",
       "      <td>2.877737</td>\n",
       "      <td>1.107647</td>\n",
       "      <td>3.683244</td>\n",
       "      <td>0.371912</td>\n",
       "      <td>174.990473</td>\n",
       "      <td>0.037229</td>\n",
       "      <td>0.136533</td>\n",
       "    </tr>\n",
       "    <tr>\n",
       "      <th>min</th>\n",
       "      <td>0.000000</td>\n",
       "      <td>0.000000</td>\n",
       "      <td>0.000000</td>\n",
       "      <td>60.000000</td>\n",
       "      <td>6.000000</td>\n",
       "      <td>1.000000</td>\n",
       "      <td>4.000000</td>\n",
       "      <td>0.000000</td>\n",
       "      <td>1106.000000</td>\n",
       "      <td>0.644000</td>\n",
       "      <td>0.876000</td>\n",
       "    </tr>\n",
       "    <tr>\n",
       "      <th>25%</th>\n",
       "      <td>0.000000</td>\n",
       "      <td>0.000000</td>\n",
       "      <td>0.000000</td>\n",
       "      <td>71.000000</td>\n",
       "      <td>12.000000</td>\n",
       "      <td>2.000000</td>\n",
       "      <td>27.000000</td>\n",
       "      <td>0.000000</td>\n",
       "      <td>1358.500000</td>\n",
       "      <td>0.700000</td>\n",
       "      <td>1.098500</td>\n",
       "    </tr>\n",
       "    <tr>\n",
       "      <th>50%</th>\n",
       "      <td>0.000000</td>\n",
       "      <td>552.000000</td>\n",
       "      <td>1.000000</td>\n",
       "      <td>77.000000</td>\n",
       "      <td>15.000000</td>\n",
       "      <td>2.000000</td>\n",
       "      <td>29.000000</td>\n",
       "      <td>0.000000</td>\n",
       "      <td>1471.000000</td>\n",
       "      <td>0.729000</td>\n",
       "      <td>1.193000</td>\n",
       "    </tr>\n",
       "    <tr>\n",
       "      <th>75%</th>\n",
       "      <td>1.000000</td>\n",
       "      <td>869.500000</td>\n",
       "      <td>1.000000</td>\n",
       "      <td>82.000000</td>\n",
       "      <td>16.000000</td>\n",
       "      <td>3.000000</td>\n",
       "      <td>30.000000</td>\n",
       "      <td>0.500000</td>\n",
       "      <td>1598.000000</td>\n",
       "      <td>0.756000</td>\n",
       "      <td>1.292000</td>\n",
       "    </tr>\n",
       "    <tr>\n",
       "      <th>max</th>\n",
       "      <td>1.000000</td>\n",
       "      <td>2639.000000</td>\n",
       "      <td>1.000000</td>\n",
       "      <td>98.000000</td>\n",
       "      <td>23.000000</td>\n",
       "      <td>5.000000</td>\n",
       "      <td>30.000000</td>\n",
       "      <td>2.000000</td>\n",
       "      <td>2004.000000</td>\n",
       "      <td>0.837000</td>\n",
       "      <td>1.587000</td>\n",
       "    </tr>\n",
       "  </tbody>\n",
       "</table>\n",
       "</div>"
      ],
      "text/plain": [
       "            Group     MR Delay         M/F         Age        EDUC  \\\n",
       "count  371.000000   371.000000  371.000000  371.000000  371.000000   \n",
       "mean     0.487871   593.876011    0.568733   77.018868   14.611860   \n",
       "std      0.500528   636.636500    0.495922    7.660864    2.877737   \n",
       "min      0.000000     0.000000    0.000000   60.000000    6.000000   \n",
       "25%      0.000000     0.000000    0.000000   71.000000   12.000000   \n",
       "50%      0.000000   552.000000    1.000000   77.000000   15.000000   \n",
       "75%      1.000000   869.500000    1.000000   82.000000   16.000000   \n",
       "max      1.000000  2639.000000    1.000000   98.000000   23.000000   \n",
       "\n",
       "              SES        MMSE         CDR         eTIV        nWBV         ASF  \n",
       "count  371.000000  371.000000  371.000000   371.000000  371.000000  371.000000  \n",
       "mean     2.460452   27.342318    0.287062  1489.876011    0.729526    1.193776  \n",
       "std      1.107647    3.683244    0.371912   174.990473    0.037229    0.136533  \n",
       "min      1.000000    4.000000    0.000000  1106.000000    0.644000    0.876000  \n",
       "25%      2.000000   27.000000    0.000000  1358.500000    0.700000    1.098500  \n",
       "50%      2.000000   29.000000    0.000000  1471.000000    0.729000    1.193000  \n",
       "75%      3.000000   30.000000    0.500000  1598.000000    0.756000    1.292000  \n",
       "max      5.000000   30.000000    2.000000  2004.000000    0.837000    1.587000  "
      ]
     },
     "execution_count": 11,
     "metadata": {},
     "output_type": "execute_result"
    }
   ],
   "source": [
    "df.describe()"
   ]
  },
  {
   "cell_type": "code",
   "execution_count": 12,
   "id": "c75362a6",
   "metadata": {},
   "outputs": [
    {
     "name": "stdout",
     "output_type": "stream",
     "text": [
      "Group       0.777360\n",
      "MR Delay   -0.067299\n",
      "M/F        -0.213504\n",
      "Age        -0.025147\n",
      "EDUC       -0.145614\n",
      "SES         0.074115\n",
      "MMSE       -0.686519\n",
      "CDR         1.000000\n",
      "eTIV        0.042450\n",
      "nWBV       -0.350473\n",
      "ASF        -0.053767\n",
      "Name: CDR, dtype: float64\n"
     ]
    },
    {
     "data": {
      "text/plain": [
       "<Axes: >"
      ]
     },
     "execution_count": 12,
     "metadata": {},
     "output_type": "execute_result"
    },
    {
     "data": {
      "image/png": "[encoded data removed]",
      "text/plain": [
       "<Figure size 640x480 with 2 Axes>"
      ]
     },
     "metadata": {},
     "output_type": "display_data"
    }
   ],
   "source": [
    "import seaborn as sb\n",
    "\n",
    "cor_matrix= df.corr()\n",
    "print(cor_matrix['CDR'])\n",
    "sb.heatmap(cor_matrix, annot=True)"
   ]
  },
  {
   "cell_type": "code",
   "execution_count": 13,
   "id": "a288a4ef",
   "metadata": {},
   "outputs": [
    {
     "data": {
      "text/plain": [
       "(array([ 1.,  0.,  0.,  0.,  2.,  1.,  3.,  1.,  2.,  5.,  1.,  5.,  0.,\n",
       "         7.,  3.,  8.,  1.,  5.,  3.,  6.,  9.,  4.,  5.,  8., 19.,  5.,\n",
       "        10.,  6.,  3., 10.,  5.,  2.,  9.,  8.,  4.,  2.,  4.,  3.,  4.,\n",
       "         4.,  2.,  3.,  0.,  2.,  1.,  1.,  1.,  1.,  0.,  1.]),\n",
       " array([0.644  , 0.64786, 0.65172, 0.65558, 0.65944, 0.6633 , 0.66716,\n",
       "        0.67102, 0.67488, 0.67874, 0.6826 , 0.68646, 0.69032, 0.69418,\n",
       "        0.69804, 0.7019 , 0.70576, 0.70962, 0.71348, 0.71734, 0.7212 ,\n",
       "        0.72506, 0.72892, 0.73278, 0.73664, 0.7405 , 0.74436, 0.74822,\n",
       "        0.75208, 0.75594, 0.7598 , 0.76366, 0.76752, 0.77138, 0.77524,\n",
       "        0.7791 , 0.78296, 0.78682, 0.79068, 0.79454, 0.7984 , 0.80226,\n",
       "        0.80612, 0.80998, 0.81384, 0.8177 , 0.82156, 0.82542, 0.82928,\n",
       "        0.83314, 0.837  ]),\n",
       " <BarContainer object of 50 artists>)"
      ]
     },
     "execution_count": 13,
     "metadata": {},
     "output_type": "execute_result"
    },
    {
     "data": {
      "image/png": "[encoded data removed]",
      "text/plain": [
       "<Figure size 640x480 with 1 Axes>"
      ]
     },
     "metadata": {},
     "output_type": "display_data"
    }
   ],
   "source": [
    "group_demented = df.loc[df['Group']==1,'nWBV']\n",
    "group_nondemented = df.loc[df['Group']==0,'nWBV']\n",
    "plt.hist(group_demented, bins=50, alpha=0.5, label='demented', density=False)\n",
    "plt.hist(group_nondemented, bins=50, alpha=0.5, label='nondemented', density=False)\n",
    "#sns.histplot(x='nWBV',data=df,hue='Group')"
   ]
  },
  {
   "cell_type": "code",
   "execution_count": 14,
   "id": "254189ab",
   "metadata": {},
   "outputs": [],
   "source": [
    "X = df.iloc[:, 1:] \n",
    "y = df.iloc[:, 0] "
   ]
  },
  {
   "cell_type": "code",
   "execution_count": 16,
   "id": "e4b45cc0",
   "metadata": {},
   "outputs": [
    {
     "data": {
      "text/html": [
       "<div>\n",
       "<style scoped>\n",
       "    .dataframe tbody tr th:only-of-type {\n",
       "        vertical-align: middle;\n",
       "    }\n",
       "\n",
       "    .dataframe tbody tr th {\n",
       "        vertical-align: top;\n",
       "    }\n",
       "\n",
       "    .dataframe thead th {\n",
       "        text-align: right;\n",
       "    }\n",
       "</style>\n",
       "<table border=\"1\" class=\"dataframe\">\n",
       "  <thead>\n",
       "    <tr style=\"text-align: right;\">\n",
       "      <th></th>\n",
       "      <th>MR Delay</th>\n",
       "      <th>M/F</th>\n",
       "      <th>Age</th>\n",
       "      <th>EDUC</th>\n",
       "      <th>SES</th>\n",
       "      <th>MMSE</th>\n",
       "      <th>CDR</th>\n",
       "      <th>eTIV</th>\n",
       "      <th>nWBV</th>\n",
       "      <th>ASF</th>\n",
       "    </tr>\n",
       "  </thead>\n",
       "  <tbody>\n",
       "    <tr>\n",
       "      <th>count</th>\n",
       "      <td>371.000000</td>\n",
       "      <td>371.000000</td>\n",
       "      <td>371.000000</td>\n",
       "      <td>371.000000</td>\n",
       "      <td>371.000000</td>\n",
       "      <td>371.000000</td>\n",
       "      <td>371.000000</td>\n",
       "      <td>371.000000</td>\n",
       "      <td>371.000000</td>\n",
       "      <td>371.000000</td>\n",
       "    </tr>\n",
       "    <tr>\n",
       "      <th>mean</th>\n",
       "      <td>593.876011</td>\n",
       "      <td>0.568733</td>\n",
       "      <td>77.018868</td>\n",
       "      <td>14.611860</td>\n",
       "      <td>2.460452</td>\n",
       "      <td>27.342318</td>\n",
       "      <td>0.287062</td>\n",
       "      <td>1489.876011</td>\n",
       "      <td>0.729526</td>\n",
       "      <td>1.193776</td>\n",
       "    </tr>\n",
       "    <tr>\n",
       "      <th>std</th>\n",
       "      <td>636.636500</td>\n",
       "      <td>0.495922</td>\n",
       "      <td>7.660864</td>\n",
       "      <td>2.877737</td>\n",
       "      <td>1.107647</td>\n",
       "      <td>3.683244</td>\n",
       "      <td>0.371912</td>\n",
       "      <td>174.990473</td>\n",
       "      <td>0.037229</td>\n",
       "      <td>0.136533</td>\n",
       "    </tr>\n",
       "    <tr>\n",
       "      <th>min</th>\n",
       "      <td>0.000000</td>\n",
       "      <td>0.000000</td>\n",
       "      <td>60.000000</td>\n",
       "      <td>6.000000</td>\n",
       "      <td>1.000000</td>\n",
       "      <td>4.000000</td>\n",
       "      <td>0.000000</td>\n",
       "      <td>1106.000000</td>\n",
       "      <td>0.644000</td>\n",
       "      <td>0.876000</td>\n",
       "    </tr>\n",
       "    <tr>\n",
       "      <th>25%</th>\n",
       "      <td>0.000000</td>\n",
       "      <td>0.000000</td>\n",
       "      <td>71.000000</td>\n",
       "      <td>12.000000</td>\n",
       "      <td>2.000000</td>\n",
       "      <td>27.000000</td>\n",
       "      <td>0.000000</td>\n",
       "      <td>1358.500000</td>\n",
       "      <td>0.700000</td>\n",
       "      <td>1.098500</td>\n",
       "    </tr>\n",
       "    <tr>\n",
       "      <th>50%</th>\n",
       "      <td>552.000000</td>\n",
       "      <td>1.000000</td>\n",
       "      <td>77.000000</td>\n",
       "      <td>15.000000</td>\n",
       "      <td>2.000000</td>\n",
       "      <td>29.000000</td>\n",
       "      <td>0.000000</td>\n",
       "      <td>1471.000000</td>\n",
       "      <td>0.729000</td>\n",
       "      <td>1.193000</td>\n",
       "    </tr>\n",
       "    <tr>\n",
       "      <th>75%</th>\n",
       "      <td>869.500000</td>\n",
       "      <td>1.000000</td>\n",
       "      <td>82.000000</td>\n",
       "      <td>16.000000</td>\n",
       "      <td>3.000000</td>\n",
       "      <td>30.000000</td>\n",
       "      <td>0.500000</td>\n",
       "      <td>1598.000000</td>\n",
       "      <td>0.756000</td>\n",
       "      <td>1.292000</td>\n",
       "    </tr>\n",
       "    <tr>\n",
       "      <th>max</th>\n",
       "      <td>2639.000000</td>\n",
       "      <td>1.000000</td>\n",
       "      <td>98.000000</td>\n",
       "      <td>23.000000</td>\n",
       "      <td>5.000000</td>\n",
       "      <td>30.000000</td>\n",
       "      <td>2.000000</td>\n",
       "      <td>2004.000000</td>\n",
       "      <td>0.837000</td>\n",
       "      <td>1.587000</td>\n",
       "    </tr>\n",
       "  </tbody>\n",
       "</table>\n",
       "</div>"
      ],
      "text/plain": [
       "          MR Delay         M/F         Age        EDUC         SES  \\\n",
       "count   371.000000  371.000000  371.000000  371.000000  371.000000   \n",
       "mean    593.876011    0.568733   77.018868   14.611860    2.460452   \n",
       "std     636.636500    0.495922    7.660864    2.877737    1.107647   \n",
       "min       0.000000    0.000000   60.000000    6.000000    1.000000   \n",
       "25%       0.000000    0.000000   71.000000   12.000000    2.000000   \n",
       "50%     552.000000    1.000000   77.000000   15.000000    2.000000   \n",
       "75%     869.500000    1.000000   82.000000   16.000000    3.000000   \n",
       "max    2639.000000    1.000000   98.000000   23.000000    5.000000   \n",
       "\n",
       "             MMSE         CDR         eTIV        nWBV         ASF  \n",
       "count  371.000000  371.000000   371.000000  371.000000  371.000000  \n",
       "mean    27.342318    0.287062  1489.876011    0.729526    1.193776  \n",
       "std      3.683244    0.371912   174.990473    0.037229    0.136533  \n",
       "min      4.000000    0.000000  1106.000000    0.644000    0.876000  \n",
       "25%     27.000000    0.000000  1358.500000    0.700000    1.098500  \n",
       "50%     29.000000    0.000000  1471.000000    0.729000    1.193000  \n",
       "75%     30.000000    0.500000  1598.000000    0.756000    1.292000  \n",
       "max     30.000000    2.000000  2004.000000    0.837000    1.587000  "
      ]
     },
     "execution_count": 16,
     "metadata": {},
     "output_type": "execute_result"
    }
   ],
   "source": [
    "X.describe()"
   ]
  },
  {
   "cell_type": "code",
   "execution_count": 17,
   "id": "eb822957",
   "metadata": {},
   "outputs": [],
   "source": [
    "X_train1, X_test, y_train1, y_test = train_test_split(X, y, test_size=0.1, random_state=10, stratify=y)\n",
    "X_train, X_val, y_train, y_val = train_test_split(X_train1, y_train1, test_size=0.1, random_state=10, stratify=y_train1)"
   ]
  },
  {
   "cell_type": "code",
   "execution_count": 18,
   "id": "730b0e0a",
   "metadata": {},
   "outputs": [],
   "source": [
    "s = StandardScaler()\n",
    "s.fit(X_train)\n",
    "X_train_std = s.transform(X_train)\n",
    "X_val_std = s.transform(X_val)\n",
    "X_train_std = pd.DataFrame(X_train_std)\n",
    "X_val_std = pd.DataFrame(X_val_std)\n",
    "X_train_std.columns = list(X.columns)\n",
    "X_val_std.columns = list(X.columns)"
   ]
  },
  {
   "cell_type": "code",
   "execution_count": 19,
   "id": "d158ac08",
   "metadata": {},
   "outputs": [
    {
     "data": {
      "text/html": [
       "<div>\n",
       "<style scoped>\n",
       "    .dataframe tbody tr th:only-of-type {\n",
       "        vertical-align: middle;\n",
       "    }\n",
       "\n",
       "    .dataframe tbody tr th {\n",
       "        vertical-align: top;\n",
       "    }\n",
       "\n",
       "    .dataframe thead th {\n",
       "        text-align: right;\n",
       "    }\n",
       "</style>\n",
       "<table border=\"1\" class=\"dataframe\">\n",
       "  <thead>\n",
       "    <tr style=\"text-align: right;\">\n",
       "      <th></th>\n",
       "      <th>MR Delay</th>\n",
       "      <th>M/F</th>\n",
       "      <th>Age</th>\n",
       "      <th>EDUC</th>\n",
       "      <th>SES</th>\n",
       "      <th>MMSE</th>\n",
       "      <th>CDR</th>\n",
       "      <th>eTIV</th>\n",
       "      <th>nWBV</th>\n",
       "      <th>ASF</th>\n",
       "    </tr>\n",
       "  </thead>\n",
       "  <tbody>\n",
       "    <tr>\n",
       "      <th>count</th>\n",
       "      <td>2.990000e+02</td>\n",
       "      <td>2.990000e+02</td>\n",
       "      <td>2.990000e+02</td>\n",
       "      <td>2.990000e+02</td>\n",
       "      <td>2.990000e+02</td>\n",
       "      <td>2.990000e+02</td>\n",
       "      <td>2.990000e+02</td>\n",
       "      <td>2.990000e+02</td>\n",
       "      <td>2.990000e+02</td>\n",
       "      <td>2.990000e+02</td>\n",
       "    </tr>\n",
       "    <tr>\n",
       "      <th>mean</th>\n",
       "      <td>-5.940993e-17</td>\n",
       "      <td>5.049844e-17</td>\n",
       "      <td>6.713322e-16</td>\n",
       "      <td>2.376397e-16</td>\n",
       "      <td>1.812003e-16</td>\n",
       "      <td>-2.079347e-16</td>\n",
       "      <td>5.940993e-18</td>\n",
       "      <td>-1.232756e-16</td>\n",
       "      <td>3.730943e-15</td>\n",
       "      <td>-1.048585e-15</td>\n",
       "    </tr>\n",
       "    <tr>\n",
       "      <th>std</th>\n",
       "      <td>1.001676e+00</td>\n",
       "      <td>1.001676e+00</td>\n",
       "      <td>1.001676e+00</td>\n",
       "      <td>1.001676e+00</td>\n",
       "      <td>1.001676e+00</td>\n",
       "      <td>1.001676e+00</td>\n",
       "      <td>1.001676e+00</td>\n",
       "      <td>1.001676e+00</td>\n",
       "      <td>1.001676e+00</td>\n",
       "      <td>1.001676e+00</td>\n",
       "    </tr>\n",
       "    <tr>\n",
       "      <th>min</th>\n",
       "      <td>-9.182195e-01</td>\n",
       "      <td>-1.140175e+00</td>\n",
       "      <td>-2.152406e+00</td>\n",
       "      <td>-2.944653e+00</td>\n",
       "      <td>-1.313524e+00</td>\n",
       "      <td>-5.928249e+00</td>\n",
       "      <td>-7.991532e-01</td>\n",
       "      <td>-2.201381e+00</td>\n",
       "      <td>-2.270787e+00</td>\n",
       "      <td>-2.332556e+00</td>\n",
       "    </tr>\n",
       "    <tr>\n",
       "      <th>25%</th>\n",
       "      <td>-9.182195e-01</td>\n",
       "      <td>-1.140175e+00</td>\n",
       "      <td>-7.530656e-01</td>\n",
       "      <td>-8.794819e-01</td>\n",
       "      <td>-4.227605e-01</td>\n",
       "      <td>-3.003053e-01</td>\n",
       "      <td>-7.991532e-01</td>\n",
       "      <td>-7.413860e-01</td>\n",
       "      <td>-8.037869e-01</td>\n",
       "      <td>-6.655922e-01</td>\n",
       "    </tr>\n",
       "    <tr>\n",
       "      <th>50%</th>\n",
       "      <td>-1.217834e-01</td>\n",
       "      <td>8.770580e-01</td>\n",
       "      <td>1.021106e-02</td>\n",
       "      <td>1.531035e-01</td>\n",
       "      <td>-4.227605e-01</td>\n",
       "      <td>4.671416e-01</td>\n",
       "      <td>-7.991532e-01</td>\n",
       "      <td>-8.194068e-02</td>\n",
       "      <td>-3.664012e-02</td>\n",
       "      <td>-3.682519e-02</td>\n",
       "    </tr>\n",
       "    <tr>\n",
       "      <th>75%</th>\n",
       "      <td>4.407786e-01</td>\n",
       "      <td>8.770580e-01</td>\n",
       "      <td>6.462750e-01</td>\n",
       "      <td>4.972987e-01</td>\n",
       "      <td>4.680031e-01</td>\n",
       "      <td>7.229572e-01</td>\n",
       "      <td>6.064162e-01</td>\n",
       "      <td>5.861436e-01</td>\n",
       "      <td>7.035893e-01</td>\n",
       "      <td>7.016104e-01</td>\n",
       "    </tr>\n",
       "    <tr>\n",
       "      <th>max</th>\n",
       "      <td>3.059220e+00</td>\n",
       "      <td>8.770580e-01</td>\n",
       "      <td>2.554467e+00</td>\n",
       "      <td>2.906665e+00</td>\n",
       "      <td>2.249530e+00</td>\n",
       "      <td>7.229572e-01</td>\n",
       "      <td>4.823124e+00</td>\n",
       "      <td>2.970514e+00</td>\n",
       "      <td>2.924277e+00</td>\n",
       "      <td>2.865739e+00</td>\n",
       "    </tr>\n",
       "  </tbody>\n",
       "</table>\n",
       "</div>"
      ],
      "text/plain": [
       "           MR Delay           M/F           Age          EDUC           SES  \\\n",
       "count  2.990000e+02  2.990000e+02  2.990000e+02  2.990000e+02  2.990000e+02   \n",
       "mean  -5.940993e-17  5.049844e-17  6.713322e-16  2.376397e-16  1.812003e-16   \n",
       "std    1.001676e+00  1.001676e+00  1.001676e+00  1.001676e+00  1.001676e+00   \n",
       "min   -9.182195e-01 -1.140175e+00 -2.152406e+00 -2.944653e+00 -1.313524e+00   \n",
       "25%   -9.182195e-01 -1.140175e+00 -7.530656e-01 -8.794819e-01 -4.227605e-01   \n",
       "50%   -1.217834e-01  8.770580e-01  1.021106e-02  1.531035e-01 -4.227605e-01   \n",
       "75%    4.407786e-01  8.770580e-01  6.462750e-01  4.972987e-01  4.680031e-01   \n",
       "max    3.059220e+00  8.770580e-01  2.554467e+00  2.906665e+00  2.249530e+00   \n",
       "\n",
       "               MMSE           CDR          eTIV          nWBV           ASF  \n",
       "count  2.990000e+02  2.990000e+02  2.990000e+02  2.990000e+02  2.990000e+02  \n",
       "mean  -2.079347e-16  5.940993e-18 -1.232756e-16  3.730943e-15 -1.048585e-15  \n",
       "std    1.001676e+00  1.001676e+00  1.001676e+00  1.001676e+00  1.001676e+00  \n",
       "min   -5.928249e+00 -7.991532e-01 -2.201381e+00 -2.270787e+00 -2.332556e+00  \n",
       "25%   -3.003053e-01 -7.991532e-01 -7.413860e-01 -8.037869e-01 -6.655922e-01  \n",
       "50%    4.671416e-01 -7.991532e-01 -8.194068e-02 -3.664012e-02 -3.682519e-02  \n",
       "75%    7.229572e-01  6.064162e-01  5.861436e-01  7.035893e-01  7.016104e-01  \n",
       "max    7.229572e-01  4.823124e+00  2.970514e+00  2.924277e+00  2.865739e+00  "
      ]
     },
     "execution_count": 19,
     "metadata": {},
     "output_type": "execute_result"
    }
   ],
   "source": [
    "X_train_std.describe()"
   ]
  },
  {
   "cell_type": "code",
   "execution_count": 20,
   "id": "524eaab1",
   "metadata": {},
   "outputs": [
    {
     "name": "stdout",
     "output_type": "stream",
     "text": [
      "Fitting 5 folds for each of 15 candidates, totalling 75 fits\n",
      "[CV 1/5] END .....metric=hamming, n_neighbors=1;, score=0.759 total time=   0.0s\n",
      "[CV 2/5] END .....metric=hamming, n_neighbors=1;, score=0.897 total time=   0.0s\n",
      "[CV 3/5] END .....metric=hamming, n_neighbors=1;, score=0.931 total time=   0.0s\n",
      "[CV 4/5] END .....metric=hamming, n_neighbors=1;, score=0.828 total time=   0.0s\n",
      "[CV 5/5] END .....metric=hamming, n_neighbors=1;, score=0.793 total time=   0.0s\n",
      "[CV 1/5] END .....metric=hamming, n_neighbors=2;, score=0.724 total time=   0.0s\n",
      "[CV 2/5] END .....metric=hamming, n_neighbors=2;, score=0.793 total time=   0.0s\n",
      "[CV 3/5] END .....metric=hamming, n_neighbors=2;, score=0.793 total time=   0.0s\n",
      "[CV 4/5] END .....metric=hamming, n_neighbors=2;, score=0.759 total time=   0.0s\n",
      "[CV 5/5] END .....metric=hamming, n_neighbors=2;, score=0.621 total time=   0.0s\n",
      "[CV 1/5] END .....metric=hamming, n_neighbors=3;, score=0.862 total time=   0.0s\n",
      "[CV 2/5] END .....metric=hamming, n_neighbors=3;, score=0.897 total time=   0.0s\n",
      "[CV 3/5] END .....metric=hamming, n_neighbors=3;, score=0.862 total time=   0.0s\n",
      "[CV 4/5] END .....metric=hamming, n_neighbors=3;, score=0.897 total time=   0.0s\n",
      "[CV 5/5] END .....metric=hamming, n_neighbors=3;, score=0.862 total time=   0.0s\n",
      "[CV 1/5] END .....metric=hamming, n_neighbors=4;, score=0.793 total time=   0.0s\n",
      "[CV 2/5] END .....metric=hamming, n_neighbors=4;, score=0.862 total time=   0.0s\n",
      "[CV 3/5] END .....metric=hamming, n_neighbors=4;, score=0.828 total time=   0.0s\n",
      "[CV 4/5] END .....metric=hamming, n_neighbors=4;, score=0.828 total time=   0.0s\n",
      "[CV 5/5] END .....metric=hamming, n_neighbors=4;, score=0.793 total time=   0.0s\n",
      "[CV 1/5] END .....metric=hamming, n_neighbors=5;, score=0.862 total time=   0.0s\n",
      "[CV 2/5] END .....metric=hamming, n_neighbors=5;, score=0.862 total time=   0.0s\n",
      "[CV 3/5] END .....metric=hamming, n_neighbors=5;, score=0.897 total time=   0.0s\n",
      "[CV 4/5] END .....metric=hamming, n_neighbors=5;, score=0.897 total time=   0.0s\n",
      "[CV 5/5] END .....metric=hamming, n_neighbors=5;, score=0.897 total time=   0.0s\n",
      "[CV 1/5] END ...metric=euclidean, n_neighbors=1;, score=0.621 total time=   0.0s\n",
      "[CV 2/5] END ...metric=euclidean, n_neighbors=1;, score=0.483 total time=   0.0s\n",
      "[CV 3/5] END ...metric=euclidean, n_neighbors=1;, score=0.517 total time=   0.0s\n",
      "[CV 4/5] END ...metric=euclidean, n_neighbors=1;, score=0.655 total time=   0.0s\n",
      "[CV 5/5] END ...metric=euclidean, n_neighbors=1;, score=0.345 total time=   0.0s\n",
      "[CV 1/5] END ...metric=euclidean, n_neighbors=2;, score=0.207 total time=   0.0s\n",
      "[CV 2/5] END ...metric=euclidean, n_neighbors=2;, score=0.310 total time=   0.0s\n",
      "[CV 3/5] END ...metric=euclidean, n_neighbors=2;, score=0.207 total time=   0.0s\n",
      "[CV 4/5] END ...metric=euclidean, n_neighbors=2;, score=0.345 total time=   0.0s\n",
      "[CV 5/5] END ...metric=euclidean, n_neighbors=2;, score=0.103 total time=   0.0s\n",
      "[CV 1/5] END ...metric=euclidean, n_neighbors=3;, score=0.483 total time=   0.0s\n",
      "[CV 2/5] END ...metric=euclidean, n_neighbors=3;, score=0.448 total time=   0.0s\n",
      "[CV 3/5] END ...metric=euclidean, n_neighbors=3;, score=0.517 total time=   0.0s\n",
      "[CV 4/5] END ...metric=euclidean, n_neighbors=3;, score=0.517 total time=   0.0s\n",
      "[CV 5/5] END ...metric=euclidean, n_neighbors=3;, score=0.345 total time=   0.0s\n",
      "[CV 1/5] END ...metric=euclidean, n_neighbors=4;, score=0.241 total time=   0.0s\n",
      "[CV 2/5] END ...metric=euclidean, n_neighbors=4;, score=0.310 total time=   0.0s\n",
      "[CV 3/5] END ...metric=euclidean, n_neighbors=4;, score=0.207 total time=   0.0s\n",
      "[CV 4/5] END ...metric=euclidean, n_neighbors=4;, score=0.345 total time=   0.0s\n",
      "[CV 5/5] END ...metric=euclidean, n_neighbors=4;, score=0.172 total time=   0.0s\n",
      "[CV 1/5] END ...metric=euclidean, n_neighbors=5;, score=0.379 total time=   0.0s\n",
      "[CV 2/5] END ...metric=euclidean, n_neighbors=5;, score=0.517 total time=   0.0s\n",
      "[CV 3/5] END ...metric=euclidean, n_neighbors=5;, score=0.483 total time=   0.0s\n",
      "[CV 4/5] END ...metric=euclidean, n_neighbors=5;, score=0.586 total time=   0.0s\n",
      "[CV 5/5] END ...metric=euclidean, n_neighbors=5;, score=0.414 total time=   0.0s\n",
      "[CV 1/5] END ...metric=manhattan, n_neighbors=1;, score=0.621 total time=   0.0s\n",
      "[CV 2/5] END ...metric=manhattan, n_neighbors=1;, score=0.517 total time=   0.0s\n",
      "[CV 3/5] END ...metric=manhattan, n_neighbors=1;, score=0.552 total time=   0.0s\n",
      "[CV 4/5] END ...metric=manhattan, n_neighbors=1;, score=0.586 total time=   0.0s\n",
      "[CV 5/5] END ...metric=manhattan, n_neighbors=1;, score=0.414 total time=   0.0s\n",
      "[CV 1/5] END ...metric=manhattan, n_neighbors=2;, score=0.241 total time=   0.0s\n",
      "[CV 2/5] END ...metric=manhattan, n_neighbors=2;, score=0.276 total time=   0.0s\n",
      "[CV 3/5] END ...metric=manhattan, n_neighbors=2;, score=0.276 total time=   0.0s\n",
      "[CV 4/5] END ...metric=manhattan, n_neighbors=2;, score=0.379 total time=   0.0s\n",
      "[CV 5/5] END ...metric=manhattan, n_neighbors=2;, score=0.103 total time=   0.0s\n",
      "[CV 1/5] END ...metric=manhattan, n_neighbors=3;, score=0.448 total time=   0.0s\n",
      "[CV 2/5] END ...metric=manhattan, n_neighbors=3;, score=0.517 total time=   0.0s\n",
      "[CV 3/5] END ...metric=manhattan, n_neighbors=3;, score=0.586 total time=   0.0s\n",
      "[CV 4/5] END ...metric=manhattan, n_neighbors=3;, score=0.517 total time=   0.0s\n",
      "[CV 5/5] END ...metric=manhattan, n_neighbors=3;, score=0.310 total time=   0.0s\n",
      "[CV 1/5] END ...metric=manhattan, n_neighbors=4;, score=0.345 total time=   0.0s\n",
      "[CV 2/5] END ...metric=manhattan, n_neighbors=4;, score=0.345 total time=   0.0s\n",
      "[CV 3/5] END ...metric=manhattan, n_neighbors=4;, score=0.345 total time=   0.0s\n",
      "[CV 4/5] END ...metric=manhattan, n_neighbors=4;, score=0.310 total time=   0.0s\n",
      "[CV 5/5] END ...metric=manhattan, n_neighbors=4;, score=0.172 total time=   0.0s\n",
      "[CV 1/5] END ...metric=manhattan, n_neighbors=5;, score=0.414 total time=   0.0s\n",
      "[CV 2/5] END ...metric=manhattan, n_neighbors=5;, score=0.552 total time=   0.0s\n",
      "[CV 3/5] END ...metric=manhattan, n_neighbors=5;, score=0.517 total time=   0.0s\n",
      "[CV 4/5] END ...metric=manhattan, n_neighbors=5;, score=0.586 total time=   0.0s\n",
      "[CV 5/5] END ...metric=manhattan, n_neighbors=5;, score=0.448 total time=   0.0s\n"
     ]
    },
    {
     "data": {
      "text/html": [
       "<style>#sk-container-id-1 {color: black;}#sk-container-id-1 pre{padding: 0;}#sk-container-id-1 div.sk-toggleable {background-color: white;}#sk-container-id-1 label.sk-toggleable__label {cursor: pointer;display: block;width: 100%;margin-bottom: 0;padding: 0.3em;box-sizing: border-box;text-align: center;}#sk-container-id-1 label.sk-toggleable__label-arrow:before {content: \"▸\";float: left;margin-right: 0.25em;color: #696969;}#sk-container-id-1 label.sk-toggleable__label-arrow:hover:before {color: black;}#sk-container-id-1 div.sk-estimator:hover label.sk-toggleable__label-arrow:before {color: black;}#sk-container-id-1 div.sk-toggleable__content {max-height: 0;max-width: 0;overflow: hidden;text-align: left;background-color: #f0f8ff;}#sk-container-id-1 div.sk-toggleable__content pre {margin: 0.2em;color: black;border-radius: 0.25em;background-color: #f0f8ff;}#sk-container-id-1 input.sk-toggleable__control:checked~div.sk-toggleable__content {max-height: 200px;max-width: 100%;overflow: auto;}#sk-container-id-1 input.sk-toggleable__control:checked~label.sk-toggleable__label-arrow:before {content: \"▾\";}#sk-container-id-1 div.sk-estimator input.sk-toggleable__control:checked~label.sk-toggleable__label {background-color: #d4ebff;}#sk-container-id-1 div.sk-label input.sk-toggleable__control:checked~label.sk-toggleable__label {background-color: #d4ebff;}#sk-container-id-1 input.sk-hidden--visually {border: 0;clip: rect(1px 1px 1px 1px);clip: rect(1px, 1px, 1px, 1px);height: 1px;margin: -1px;overflow: hidden;padding: 0;position: absolute;width: 1px;}#sk-container-id-1 div.sk-estimator {font-family: monospace;background-color: #f0f8ff;border: 1px dotted black;border-radius: 0.25em;box-sizing: border-box;margin-bottom: 0.5em;}#sk-container-id-1 div.sk-estimator:hover {background-color: #d4ebff;}#sk-container-id-1 div.sk-parallel-item::after {content: \"\";width: 100%;border-bottom: 1px solid gray;flex-grow: 1;}#sk-container-id-1 div.sk-label:hover label.sk-toggleable__label {background-color: #d4ebff;}#sk-container-id-1 div.sk-serial::before {content: \"\";position: absolute;border-left: 1px solid gray;box-sizing: border-box;top: 0;bottom: 0;left: 50%;z-index: 0;}#sk-container-id-1 div.sk-serial {display: flex;flex-direction: column;align-items: center;background-color: white;padding-right: 0.2em;padding-left: 0.2em;position: relative;}#sk-container-id-1 div.sk-item {position: relative;z-index: 1;}#sk-container-id-1 div.sk-parallel {display: flex;align-items: stretch;justify-content: center;background-color: white;position: relative;}#sk-container-id-1 div.sk-item::before, #sk-container-id-1 div.sk-parallel-item::before {content: \"\";position: absolute;border-left: 1px solid gray;box-sizing: border-box;top: 0;bottom: 0;left: 50%;z-index: -1;}#sk-container-id-1 div.sk-parallel-item {display: flex;flex-direction: column;z-index: 1;position: relative;background-color: white;}#sk-container-id-1 div.sk-parallel-item:first-child::after {align-self: flex-end;width: 50%;}#sk-container-id-1 div.sk-parallel-item:last-child::after {align-self: flex-start;width: 50%;}#sk-container-id-1 div.sk-parallel-item:only-child::after {width: 0;}#sk-container-id-1 div.sk-dashed-wrapped {border: 1px dashed gray;margin: 0 0.4em 0.5em 0.4em;box-sizing: border-box;padding-bottom: 0.4em;background-color: white;}#sk-container-id-1 div.sk-label label {font-family: monospace;font-weight: bold;display: inline-block;line-height: 1.2em;}#sk-container-id-1 div.sk-label-container {text-align: center;}#sk-container-id-1 div.sk-container {/* jupyter's `normalize.less` sets `[hidden] { display: none; }` but bootstrap.min.css set `[hidden] { display: none !important; }` so we also need the `!important` here to be able to override the default hidden behavior on the sphinx rendered scikit-learn.org. See: https://github.com/scikit-learn/scikit-learn/issues/21755 */display: inline-block !important;position: relative;}#sk-container-id-1 div.sk-text-repr-fallback {display: none;}</style><div id=\"sk-container-id-1\" class=\"sk-top-container\"><div class=\"sk-text-repr-fallback\"><pre>GridSearchCV(cv=5, estimator=KNeighborsClassifier(),\n",
       "             param_grid={&#x27;metric&#x27;: (&#x27;hamming&#x27;, &#x27;euclidean&#x27;, &#x27;manhattan&#x27;),\n",
       "                         &#x27;n_neighbors&#x27;: [1, 2, 3, 4, 5]},\n",
       "             scoring=&#x27;recall&#x27;, verbose=3)</pre><b>In a Jupyter environment, please rerun this cell to show the HTML representation or trust the notebook. <br />On GitHub, the HTML representation is unable to render, please try loading this page with nbviewer.org.</b></div><div class=\"sk-container\" hidden><div class=\"sk-item sk-dashed-wrapped\"><div class=\"sk-label-container\"><div class=\"sk-label sk-toggleable\"><input class=\"sk-toggleable__control sk-hidden--visually\" id=\"sk-estimator-id-1\" type=\"checkbox\" ><label for=\"sk-estimator-id-1\" class=\"sk-toggleable__label sk-toggleable__label-arrow\">GridSearchCV</label><div class=\"sk-toggleable__content\"><pre>GridSearchCV(cv=5, estimator=KNeighborsClassifier(),\n",
       "             param_grid={&#x27;metric&#x27;: (&#x27;hamming&#x27;, &#x27;euclidean&#x27;, &#x27;manhattan&#x27;),\n",
       "                         &#x27;n_neighbors&#x27;: [1, 2, 3, 4, 5]},\n",
       "             scoring=&#x27;recall&#x27;, verbose=3)</pre></div></div></div><div class=\"sk-parallel\"><div class=\"sk-parallel-item\"><div class=\"sk-item\"><div class=\"sk-label-container\"><div class=\"sk-label sk-toggleable\"><input class=\"sk-toggleable__control sk-hidden--visually\" id=\"sk-estimator-id-2\" type=\"checkbox\" ><label for=\"sk-estimator-id-2\" class=\"sk-toggleable__label sk-toggleable__label-arrow\">estimator: KNeighborsClassifier</label><div class=\"sk-toggleable__content\"><pre>KNeighborsClassifier()</pre></div></div></div><div class=\"sk-serial\"><div class=\"sk-item\"><div class=\"sk-estimator sk-toggleable\"><input class=\"sk-toggleable__control sk-hidden--visually\" id=\"sk-estimator-id-3\" type=\"checkbox\" ><label for=\"sk-estimator-id-3\" class=\"sk-toggleable__label sk-toggleable__label-arrow\">KNeighborsClassifier</label><div class=\"sk-toggleable__content\"><pre>KNeighborsClassifier()</pre></div></div></div></div></div></div></div></div></div></div>"
      ],
      "text/plain": [
       "GridSearchCV(cv=5, estimator=KNeighborsClassifier(),\n",
       "             param_grid={'metric': ('hamming', 'euclidean', 'manhattan'),\n",
       "                         'n_neighbors': [1, 2, 3, 4, 5]},\n",
       "             scoring='recall', verbose=3)"
      ]
     },
     "execution_count": 20,
     "metadata": {},
     "output_type": "execute_result"
    }
   ],
   "source": [
    "from sklearn.model_selection import GridSearchCV\n",
    "\n",
    "#----------------K NEAREST-----------------\n",
    "\n",
    "parameters = {'n_neighbors':[1,2,3,4,5], 'metric':('hamming', 'euclidean', 'manhattan')}\n",
    "classifier = KNeighborsClassifier()\n",
    "clf = GridSearchCV(classifier, parameters, scoring='recall', cv=5, verbose=3)\n",
    "clf.fit(X_train, y_train)"
   ]
  },
  {
   "cell_type": "code",
   "execution_count": 21,
   "id": "aff548fe",
   "metadata": {},
   "outputs": [
    {
     "name": "stdout",
     "output_type": "stream",
     "text": [
      "Najveca preciznost:  0.8827586206896552\n",
      "Najbolji hiperparametri:  {'metric': 'hamming', 'n_neighbors': 5}\n"
     ]
    }
   ],
   "source": [
    "print(\"Najveca preciznost: \", clf.best_score_)\n",
    "print(\"Najbolji hiperparametri: \", clf.best_params_)"
   ]
  },
  {
   "cell_type": "code",
   "execution_count": 22,
   "id": "3c815b06",
   "metadata": {},
   "outputs": [],
   "source": [
    "classifier = KNeighborsClassifier(n_neighbors=5, metric='hamming')\n",
    "classifier.fit(X_train_std,y_train)\n",
    "y_pred = classifier.predict(X_val_std)"
   ]
  },
  {
   "cell_type": "code",
   "execution_count": 23,
   "id": "693f2542",
   "metadata": {},
   "outputs": [
    {
     "name": "stdout",
     "output_type": "stream",
     "text": [
      "[[16  1]\n",
      " [ 4 13]]\n"
     ]
    },
    {
     "data": {
      "text/plain": [
       "<sklearn.metrics._plot.confusion_matrix.ConfusionMatrixDisplay at 0x126a877d0>"
      ]
     },
     "execution_count": 23,
     "metadata": {},
     "output_type": "execute_result"
    },
    {
     "data": {
      "image/png": "[encoded data removed]",
      "text/plain": [
       "<Figure size 640x480 with 2 Axes>"
      ]
     },
     "metadata": {},
     "output_type": "display_data"
    }
   ],
   "source": [
    "conf_mat = confusion_matrix(y_val, y_pred, labels=classifier.classes_) # TN, FP\n",
    "print(conf_mat)  \n",
    "disp = ConfusionMatrixDisplay(confusion_matrix=conf_mat,  display_labels=classifier.classes_)\n",
    "disp.plot(cmap=\"Blues\")"
   ]
  },
  {
   "cell_type": "code",
   "execution_count": 34,
   "id": "1dd3f3ba",
   "metadata": {},
   "outputs": [
    {
     "name": "stdout",
     "output_type": "stream",
     "text": [
      "precision:  0.9285714285714286\n",
      "accuracy:  0.8529411764705882\n",
      "sensitivity/recall:  0.7647058823529411\n",
      "F score:  0.8387096774193549\n"
     ]
    }
   ],
   "source": [
    "from sklearn import metrics\n",
    "precision = metrics.precision_score(y_val, y_pred)\n",
    "accuracy = metrics.accuracy_score(y_val, y_pred)\n",
    "sensitivity = metrics.recall_score(y_val, y_pred)\n",
    "f_score = metrics.f1_score(y_val, y_pred)\n",
    "\n",
    "print('precision: ', precision)\n",
    "print('accuracy: ', accuracy)\n",
    "print('sensitivity/recall: ', sensitivity)\n",
    "print('F score: ', f_score)"
   ]
  },
  {
   "cell_type": "code",
   "execution_count": 49,
   "id": "2efeea0d",
   "metadata": {},
   "outputs": [
    {
     "name": "stdout",
     "output_type": "stream",
     "text": [
      "Fitting 5 folds for each of 16 candidates, totalling 80 fits\n",
      "[CV 1/5] END criterion=gini, max_depth=1, max_features=sqrt, n_estimators=10;, score=0.724 total time=   0.0s\n",
      "[CV 2/5] END criterion=gini, max_depth=1, max_features=sqrt, n_estimators=10;, score=0.897 total time=   0.1s\n",
      "[CV 3/5] END criterion=gini, max_depth=1, max_features=sqrt, n_estimators=10;, score=0.966 total time=   0.0s\n",
      "[CV 4/5] END criterion=gini, max_depth=1, max_features=sqrt, n_estimators=10;, score=0.690 total time=   0.0s\n",
      "[CV 5/5] END criterion=gini, max_depth=1, max_features=sqrt, n_estimators=10;, score=0.897 total time=   0.0s\n",
      "[CV 1/5] END criterion=gini, max_depth=1, max_features=sqrt, n_estimators=100;, score=0.862 total time=   0.2s\n",
      "[CV 2/5] END criterion=gini, max_depth=1, max_features=sqrt, n_estimators=100;, score=0.897 total time=   0.1s\n",
      "[CV 3/5] END criterion=gini, max_depth=1, max_features=sqrt, n_estimators=100;, score=0.966 total time=   0.1s\n",
      "[CV 4/5] END criterion=gini, max_depth=1, max_features=sqrt, n_estimators=100;, score=0.966 total time=   0.2s\n",
      "[CV 5/5] END criterion=gini, max_depth=1, max_features=sqrt, n_estimators=100;, score=0.897 total time=   0.2s\n",
      "[CV 1/5] END criterion=gini, max_depth=1, max_features=log2, n_estimators=10;, score=0.690 total time=   0.0s\n",
      "[CV 2/5] END criterion=gini, max_depth=1, max_features=log2, n_estimators=10;, score=0.897 total time=   0.0s\n",
      "[CV 3/5] END criterion=gini, max_depth=1, max_features=log2, n_estimators=10;, score=0.828 total time=   0.0s\n",
      "[CV 4/5] END criterion=gini, max_depth=1, max_features=log2, n_estimators=10;, score=0.966 total time=   0.0s\n",
      "[CV 5/5] END criterion=gini, max_depth=1, max_features=log2, n_estimators=10;, score=0.793 total time=   0.0s\n",
      "[CV 1/5] END criterion=gini, max_depth=1, max_features=log2, n_estimators=100;, score=0.862 total time=   0.1s\n",
      "[CV 2/5] END criterion=gini, max_depth=1, max_features=log2, n_estimators=100;, score=0.897 total time=   0.2s\n",
      "[CV 3/5] END criterion=gini, max_depth=1, max_features=log2, n_estimators=100;, score=0.966 total time=   0.1s\n",
      "[CV 4/5] END criterion=gini, max_depth=1, max_features=log2, n_estimators=100;, score=0.966 total time=   0.1s\n",
      "[CV 5/5] END criterion=gini, max_depth=1, max_features=log2, n_estimators=100;, score=0.897 total time=   0.1s\n",
      "[CV 1/5] END criterion=gini, max_depth=50, max_features=sqrt, n_estimators=10;, score=0.862 total time=   0.0s\n",
      "[CV 2/5] END criterion=gini, max_depth=50, max_features=sqrt, n_estimators=10;, score=0.931 total time=   0.0s\n",
      "[CV 3/5] END criterion=gini, max_depth=50, max_features=sqrt, n_estimators=10;, score=0.966 total time=   0.0s\n",
      "[CV 4/5] END criterion=gini, max_depth=50, max_features=sqrt, n_estimators=10;, score=0.931 total time=   0.0s\n",
      "[CV 5/5] END criterion=gini, max_depth=50, max_features=sqrt, n_estimators=10;, score=0.897 total time=   0.0s\n",
      "[CV 1/5] END criterion=gini, max_depth=50, max_features=sqrt, n_estimators=100;, score=0.897 total time=   0.2s\n",
      "[CV 2/5] END criterion=gini, max_depth=50, max_features=sqrt, n_estimators=100;, score=0.897 total time=   0.2s\n",
      "[CV 3/5] END criterion=gini, max_depth=50, max_features=sqrt, n_estimators=100;, score=0.966 total time=   0.1s\n",
      "[CV 4/5] END criterion=gini, max_depth=50, max_features=sqrt, n_estimators=100;, score=0.966 total time=   0.1s\n",
      "[CV 5/5] END criterion=gini, max_depth=50, max_features=sqrt, n_estimators=100;, score=0.897 total time=   0.1s\n",
      "[CV 1/5] END criterion=gini, max_depth=50, max_features=log2, n_estimators=10;, score=0.862 total time=   0.0s\n",
      "[CV 2/5] END criterion=gini, max_depth=50, max_features=log2, n_estimators=10;, score=0.897 total time=   0.0s\n",
      "[CV 3/5] END criterion=gini, max_depth=50, max_features=log2, n_estimators=10;, score=0.966 total time=   0.0s\n",
      "[CV 4/5] END criterion=gini, max_depth=50, max_features=log2, n_estimators=10;, score=0.966 total time=   0.0s\n",
      "[CV 5/5] END criterion=gini, max_depth=50, max_features=log2, n_estimators=10;, score=0.897 total time=   0.0s\n",
      "[CV 1/5] END criterion=gini, max_depth=50, max_features=log2, n_estimators=100;, score=0.862 total time=   0.1s\n",
      "[CV 2/5] END criterion=gini, max_depth=50, max_features=log2, n_estimators=100;, score=0.897 total time=   0.2s\n",
      "[CV 3/5] END criterion=gini, max_depth=50, max_features=log2, n_estimators=100;, score=0.966 total time=   0.1s\n",
      "[CV 4/5] END criterion=gini, max_depth=50, max_features=log2, n_estimators=100;, score=0.966 total time=   0.2s\n",
      "[CV 5/5] END criterion=gini, max_depth=50, max_features=log2, n_estimators=100;, score=0.897 total time=   0.1s\n",
      "[CV 1/5] END criterion=entropy, max_depth=1, max_features=sqrt, n_estimators=10;, score=0.690 total time=   0.0s\n",
      "[CV 2/5] END criterion=entropy, max_depth=1, max_features=sqrt, n_estimators=10;, score=0.897 total time=   0.0s\n",
      "[CV 3/5] END criterion=entropy, max_depth=1, max_features=sqrt, n_estimators=10;, score=0.793 total time=   0.0s\n",
      "[CV 4/5] END criterion=entropy, max_depth=1, max_features=sqrt, n_estimators=10;, score=0.966 total time=   0.0s\n",
      "[CV 5/5] END criterion=entropy, max_depth=1, max_features=sqrt, n_estimators=10;, score=0.897 total time=   0.0s\n",
      "[CV 1/5] END criterion=entropy, max_depth=1, max_features=sqrt, n_estimators=100;, score=0.862 total time=   0.2s\n",
      "[CV 2/5] END criterion=entropy, max_depth=1, max_features=sqrt, n_estimators=100;, score=0.897 total time=   0.1s\n",
      "[CV 3/5] END criterion=entropy, max_depth=1, max_features=sqrt, n_estimators=100;, score=0.966 total time=   0.1s\n",
      "[CV 4/5] END criterion=entropy, max_depth=1, max_features=sqrt, n_estimators=100;, score=0.966 total time=   0.1s\n",
      "[CV 5/5] END criterion=entropy, max_depth=1, max_features=sqrt, n_estimators=100;, score=0.897 total time=   0.2s\n",
      "[CV 1/5] END criterion=entropy, max_depth=1, max_features=log2, n_estimators=10;, score=0.862 total time=   0.0s\n",
      "[CV 2/5] END criterion=entropy, max_depth=1, max_features=log2, n_estimators=10;, score=0.897 total time=   0.0s\n",
      "[CV 3/5] END criterion=entropy, max_depth=1, max_features=log2, n_estimators=10;, score=0.966 total time=   0.0s\n",
      "[CV 4/5] END criterion=entropy, max_depth=1, max_features=log2, n_estimators=10;, score=0.966 total time=   0.0s\n",
      "[CV 5/5] END criterion=entropy, max_depth=1, max_features=log2, n_estimators=10;, score=0.897 total time=   0.0s\n",
      "[CV 1/5] END criterion=entropy, max_depth=1, max_features=log2, n_estimators=100;, score=0.862 total time=   0.1s\n",
      "[CV 2/5] END criterion=entropy, max_depth=1, max_features=log2, n_estimators=100;, score=0.897 total time=   0.2s\n",
      "[CV 3/5] END criterion=entropy, max_depth=1, max_features=log2, n_estimators=100;, score=0.966 total time=   0.1s\n",
      "[CV 4/5] END criterion=entropy, max_depth=1, max_features=log2, n_estimators=100;, score=0.966 total time=   0.1s\n",
      "[CV 5/5] END criterion=entropy, max_depth=1, max_features=log2, n_estimators=100;, score=0.897 total time=   0.1s\n",
      "[CV 1/5] END criterion=entropy, max_depth=50, max_features=sqrt, n_estimators=10;, score=0.897 total time=   0.0s\n",
      "[CV 2/5] END criterion=entropy, max_depth=50, max_features=sqrt, n_estimators=10;, score=0.897 total time=   0.0s\n",
      "[CV 3/5] END criterion=entropy, max_depth=50, max_features=sqrt, n_estimators=10;, score=0.966 total time=   0.0s\n",
      "[CV 4/5] END criterion=entropy, max_depth=50, max_features=sqrt, n_estimators=10;, score=0.966 total time=   0.0s\n",
      "[CV 5/5] END criterion=entropy, max_depth=50, max_features=sqrt, n_estimators=10;, score=0.897 total time=   0.0s\n",
      "[CV 1/5] END criterion=entropy, max_depth=50, max_features=sqrt, n_estimators=100;, score=0.897 total time=   0.2s\n",
      "[CV 2/5] END criterion=entropy, max_depth=50, max_features=sqrt, n_estimators=100;, score=0.897 total time=   0.2s\n",
      "[CV 3/5] END criterion=entropy, max_depth=50, max_features=sqrt, n_estimators=100;, score=0.966 total time=   0.1s\n",
      "[CV 4/5] END criterion=entropy, max_depth=50, max_features=sqrt, n_estimators=100;, score=0.966 total time=   0.2s\n",
      "[CV 5/5] END criterion=entropy, max_depth=50, max_features=sqrt, n_estimators=100;, score=0.897 total time=   0.1s\n",
      "[CV 1/5] END criterion=entropy, max_depth=50, max_features=log2, n_estimators=10;, score=0.897 total time=   0.0s\n",
      "[CV 2/5] END criterion=entropy, max_depth=50, max_features=log2, n_estimators=10;, score=0.897 total time=   0.0s\n",
      "[CV 3/5] END criterion=entropy, max_depth=50, max_features=log2, n_estimators=10;, score=0.966 total time=   0.0s\n",
      "[CV 4/5] END criterion=entropy, max_depth=50, max_features=log2, n_estimators=10;, score=0.897 total time=   0.0s\n"
     ]
    },
    {
     "name": "stdout",
     "output_type": "stream",
     "text": [
      "[CV 5/5] END criterion=entropy, max_depth=50, max_features=log2, n_estimators=10;, score=0.897 total time=   0.0s\n",
      "[CV 1/5] END criterion=entropy, max_depth=50, max_features=log2, n_estimators=100;, score=0.862 total time=   0.2s\n",
      "[CV 2/5] END criterion=entropy, max_depth=50, max_features=log2, n_estimators=100;, score=0.897 total time=   0.2s\n",
      "[CV 3/5] END criterion=entropy, max_depth=50, max_features=log2, n_estimators=100;, score=0.966 total time=   0.2s\n",
      "[CV 4/5] END criterion=entropy, max_depth=50, max_features=log2, n_estimators=100;, score=0.966 total time=   0.2s\n",
      "[CV 5/5] END criterion=entropy, max_depth=50, max_features=log2, n_estimators=100;, score=0.897 total time=   0.1s\n"
     ]
    },
    {
     "data": {
      "text/html": [
       "<style>#sk-container-id-7 {color: black;}#sk-container-id-7 pre{padding: 0;}#sk-container-id-7 div.sk-toggleable {background-color: white;}#sk-container-id-7 label.sk-toggleable__label {cursor: pointer;display: block;width: 100%;margin-bottom: 0;padding: 0.3em;box-sizing: border-box;text-align: center;}#sk-container-id-7 label.sk-toggleable__label-arrow:before {content: \"▸\";float: left;margin-right: 0.25em;color: #696969;}#sk-container-id-7 label.sk-toggleable__label-arrow:hover:before {color: black;}#sk-container-id-7 div.sk-estimator:hover label.sk-toggleable__label-arrow:before {color: black;}#sk-container-id-7 div.sk-toggleable__content {max-height: 0;max-width: 0;overflow: hidden;text-align: left;background-color: #f0f8ff;}#sk-container-id-7 div.sk-toggleable__content pre {margin: 0.2em;color: black;border-radius: 0.25em;background-color: #f0f8ff;}#sk-container-id-7 input.sk-toggleable__control:checked~div.sk-toggleable__content {max-height: 200px;max-width: 100%;overflow: auto;}#sk-container-id-7 input.sk-toggleable__control:checked~label.sk-toggleable__label-arrow:before {content: \"▾\";}#sk-container-id-7 div.sk-estimator input.sk-toggleable__control:checked~label.sk-toggleable__label {background-color: #d4ebff;}#sk-container-id-7 div.sk-label input.sk-toggleable__control:checked~label.sk-toggleable__label {background-color: #d4ebff;}#sk-container-id-7 input.sk-hidden--visually {border: 0;clip: rect(1px 1px 1px 1px);clip: rect(1px, 1px, 1px, 1px);height: 1px;margin: -1px;overflow: hidden;padding: 0;position: absolute;width: 1px;}#sk-container-id-7 div.sk-estimator {font-family: monospace;background-color: #f0f8ff;border: 1px dotted black;border-radius: 0.25em;box-sizing: border-box;margin-bottom: 0.5em;}#sk-container-id-7 div.sk-estimator:hover {background-color: #d4ebff;}#sk-container-id-7 div.sk-parallel-item::after {content: \"\";width: 100%;border-bottom: 1px solid gray;flex-grow: 1;}#sk-container-id-7 div.sk-label:hover label.sk-toggleable__label {background-color: #d4ebff;}#sk-container-id-7 div.sk-serial::before {content: \"\";position: absolute;border-left: 1px solid gray;box-sizing: border-box;top: 0;bottom: 0;left: 50%;z-index: 0;}#sk-container-id-7 div.sk-serial {display: flex;flex-direction: column;align-items: center;background-color: white;padding-right: 0.2em;padding-left: 0.2em;position: relative;}#sk-container-id-7 div.sk-item {position: relative;z-index: 1;}#sk-container-id-7 div.sk-parallel {display: flex;align-items: stretch;justify-content: center;background-color: white;position: relative;}#sk-container-id-7 div.sk-item::before, #sk-container-id-7 div.sk-parallel-item::before {content: \"\";position: absolute;border-left: 1px solid gray;box-sizing: border-box;top: 0;bottom: 0;left: 50%;z-index: -1;}#sk-container-id-7 div.sk-parallel-item {display: flex;flex-direction: column;z-index: 1;position: relative;background-color: white;}#sk-container-id-7 div.sk-parallel-item:first-child::after {align-self: flex-end;width: 50%;}#sk-container-id-7 div.sk-parallel-item:last-child::after {align-self: flex-start;width: 50%;}#sk-container-id-7 div.sk-parallel-item:only-child::after {width: 0;}#sk-container-id-7 div.sk-dashed-wrapped {border: 1px dashed gray;margin: 0 0.4em 0.5em 0.4em;box-sizing: border-box;padding-bottom: 0.4em;background-color: white;}#sk-container-id-7 div.sk-label label {font-family: monospace;font-weight: bold;display: inline-block;line-height: 1.2em;}#sk-container-id-7 div.sk-label-container {text-align: center;}#sk-container-id-7 div.sk-container {/* jupyter's `normalize.less` sets `[hidden] { display: none; }` but bootstrap.min.css set `[hidden] { display: none !important; }` so we also need the `!important` here to be able to override the default hidden behavior on the sphinx rendered scikit-learn.org. See: https://github.com/scikit-learn/scikit-learn/issues/21755 */display: inline-block !important;position: relative;}#sk-container-id-7 div.sk-text-repr-fallback {display: none;}</style><div id=\"sk-container-id-7\" class=\"sk-top-container\"><div class=\"sk-text-repr-fallback\"><pre>GridSearchCV(cv=5, estimator=RandomForestClassifier(),\n",
       "             param_grid={&#x27;criterion&#x27;: [&#x27;gini&#x27;, &#x27;entropy&#x27;], &#x27;max_depth&#x27;: [1, 50],\n",
       "                         &#x27;max_features&#x27;: [&#x27;sqrt&#x27;, &#x27;log2&#x27;],\n",
       "                         &#x27;n_estimators&#x27;: [10, 100]},\n",
       "             scoring=&#x27;recall&#x27;, verbose=3)</pre><b>In a Jupyter environment, please rerun this cell to show the HTML representation or trust the notebook. <br />On GitHub, the HTML representation is unable to render, please try loading this page with nbviewer.org.</b></div><div class=\"sk-container\" hidden><div class=\"sk-item sk-dashed-wrapped\"><div class=\"sk-label-container\"><div class=\"sk-label sk-toggleable\"><input class=\"sk-toggleable__control sk-hidden--visually\" id=\"sk-estimator-id-19\" type=\"checkbox\" ><label for=\"sk-estimator-id-19\" class=\"sk-toggleable__label sk-toggleable__label-arrow\">GridSearchCV</label><div class=\"sk-toggleable__content\"><pre>GridSearchCV(cv=5, estimator=RandomForestClassifier(),\n",
       "             param_grid={&#x27;criterion&#x27;: [&#x27;gini&#x27;, &#x27;entropy&#x27;], &#x27;max_depth&#x27;: [1, 50],\n",
       "                         &#x27;max_features&#x27;: [&#x27;sqrt&#x27;, &#x27;log2&#x27;],\n",
       "                         &#x27;n_estimators&#x27;: [10, 100]},\n",
       "             scoring=&#x27;recall&#x27;, verbose=3)</pre></div></div></div><div class=\"sk-parallel\"><div class=\"sk-parallel-item\"><div class=\"sk-item\"><div class=\"sk-label-container\"><div class=\"sk-label sk-toggleable\"><input class=\"sk-toggleable__control sk-hidden--visually\" id=\"sk-estimator-id-20\" type=\"checkbox\" ><label for=\"sk-estimator-id-20\" class=\"sk-toggleable__label sk-toggleable__label-arrow\">estimator: RandomForestClassifier</label><div class=\"sk-toggleable__content\"><pre>RandomForestClassifier()</pre></div></div></div><div class=\"sk-serial\"><div class=\"sk-item\"><div class=\"sk-estimator sk-toggleable\"><input class=\"sk-toggleable__control sk-hidden--visually\" id=\"sk-estimator-id-21\" type=\"checkbox\" ><label for=\"sk-estimator-id-21\" class=\"sk-toggleable__label sk-toggleable__label-arrow\">RandomForestClassifier</label><div class=\"sk-toggleable__content\"><pre>RandomForestClassifier()</pre></div></div></div></div></div></div></div></div></div></div>"
      ],
      "text/plain": [
       "GridSearchCV(cv=5, estimator=RandomForestClassifier(),\n",
       "             param_grid={'criterion': ['gini', 'entropy'], 'max_depth': [1, 50],\n",
       "                         'max_features': ['sqrt', 'log2'],\n",
       "                         'n_estimators': [10, 100]},\n",
       "             scoring='recall', verbose=3)"
      ]
     },
     "execution_count": 49,
     "metadata": {},
     "output_type": "execute_result"
    }
   ],
   "source": [
    "from sklearn.ensemble import RandomForestClassifier\n",
    "\n",
    "parameters = { 'n_estimators': [10, 100], 'max_features': ['sqrt', 'log2'], 'max_depth': [1,50],\n",
    "    'criterion' :['gini', 'entropy']}\n",
    "classifier1 = RandomForestClassifier()\n",
    "clf_rsf = GridSearchCV(classifier1,parameters, scoring='recall', cv=5, verbose=3)\n",
    "clf_rsf.fit(X_train_std, y_train)"
   ]
  },
  {
   "cell_type": "code",
   "execution_count": 50,
   "id": "f047708f",
   "metadata": {},
   "outputs": [
    {
     "name": "stdout",
     "output_type": "stream",
     "text": [
      "Najbolja senzitivnost:  0.9241379310344829\n",
      "Najbolji hiperparametri:  {'criterion': 'gini', 'max_depth': 50, 'max_features': 'sqrt', 'n_estimators': 100}\n"
     ]
    }
   ],
   "source": [
    "print(\"Najbolja senzitivnost: \", clf_rsf.best_score_)\n",
    "print(\"Najbolji hiperparametri: \", clf_rsf.best_params_)"
   ]
  },
  {
   "cell_type": "code",
   "execution_count": 53,
   "id": "075415d4",
   "metadata": {},
   "outputs": [],
   "source": [
    "classifier_rsf=RandomForestClassifier(random_state=42, n_estimators= 100, max_depth=50, criterion='entropy',max_features='sqrt', oob_score=True)\n",
    "classifier_rsf.fit(X_train_std, y_train)\n",
    "y_pred_rsf = classifier_rsf.predict(X_val_std)"
   ]
  },
  {
   "cell_type": "code",
   "execution_count": 54,
   "id": "3aefed0c",
   "metadata": {},
   "outputs": [
    {
     "name": "stdout",
     "output_type": "stream",
     "text": [
      "[[17  0]\n",
      " [ 4 13]]\n"
     ]
    },
    {
     "data": {
      "text/plain": [
       "<sklearn.metrics._plot.confusion_matrix.ConfusionMatrixDisplay at 0x12ff80510>"
      ]
     },
     "execution_count": 54,
     "metadata": {},
     "output_type": "execute_result"
    },
    {
     "data": {
      "image/png": "[encoded data removed]",
      "text/plain": [
       "<Figure size 640x480 with 2 Axes>"
      ]
     },
     "metadata": {},
     "output_type": "display_data"
    }
   ],
   "source": [
    "conf_mat = confusion_matrix(y_val, y_pred_rsf, labels=classifier_rsf.classes_) # TN, FP\n",
    "print(conf_mat)  \n",
    "disp = ConfusionMatrixDisplay(confusion_matrix=conf_mat,  display_labels=classifier_rsf.classes_)\n",
    "disp.plot(cmap=\"Blues\")"
   ]
  },
  {
   "cell_type": "code",
   "execution_count": 55,
   "id": "9722b80f",
   "metadata": {},
   "outputs": [
    {
     "name": "stdout",
     "output_type": "stream",
     "text": [
      "precision:  1.0\n",
      "accuracy:  0.8823529411764706\n",
      "sensitivity/recall:  0.7647058823529411\n",
      "F score:  0.8666666666666666\n"
     ]
    }
   ],
   "source": [
    "precision1 = metrics.precision_score(y_val, y_pred_rsf)\n",
    "accuracy1 = metrics.accuracy_score(y_val, y_pred_rsf)\n",
    "sensitivity1 = metrics.recall_score(y_val, y_pred_rsf)\n",
    "f_score1 = metrics.f1_score(y_val, y_pred_rsf)\n",
    "\n",
    "print('precision: ', precision1)\n",
    "print('accuracy: ', accuracy1)\n",
    "print('sensitivity/recall: ', sensitivity1)\n",
    "print('F score: ', f_score1)"
   ]
  },
  {
   "cell_type": "code",
   "execution_count": 24,
   "id": "c1d6a058",
   "metadata": {},
   "outputs": [
    {
     "name": "stdout",
     "output_type": "stream",
     "text": [
      "Fitting 5 folds for each of 12 candidates, totalling 60 fits\n",
      "[CV 1/5] END activation=tanh, hidden_layer_sizes=(10, 30, 10), max_iter=30, solver=sgd;, score=0.759 total time=   0.1s\n",
      "[CV 2/5] END activation=tanh, hidden_layer_sizes=(10, 30, 10), max_iter=30, solver=sgd;, score=0.621 total time=   0.1s\n",
      "[CV 3/5] END activation=tanh, hidden_layer_sizes=(10, 30, 10), max_iter=30, solver=sgd;, score=1.000 total time=   0.0s\n"
     ]
    },
    {
     "name": "stderr",
     "output_type": "stream",
     "text": [
      "/Users/neda/anaconda3/lib/python3.11/site-packages/sklearn/neural_network/_multilayer_perceptron.py:691: ConvergenceWarning: Stochastic Optimizer: Maximum iterations (30) reached and the optimization hasn't converged yet.\n",
      "  warnings.warn(\n",
      "/Users/neda/anaconda3/lib/python3.11/site-packages/sklearn/neural_network/_multilayer_perceptron.py:691: ConvergenceWarning: Stochastic Optimizer: Maximum iterations (30) reached and the optimization hasn't converged yet.\n",
      "  warnings.warn(\n",
      "/Users/neda/anaconda3/lib/python3.11/site-packages/sklearn/neural_network/_multilayer_perceptron.py:691: ConvergenceWarning: Stochastic Optimizer: Maximum iterations (30) reached and the optimization hasn't converged yet.\n",
      "  warnings.warn(\n",
      "/Users/neda/anaconda3/lib/python3.11/site-packages/sklearn/neural_network/_multilayer_perceptron.py:691: ConvergenceWarning: Stochastic Optimizer: Maximum iterations (30) reached and the optimization hasn't converged yet.\n",
      "  warnings.warn(\n"
     ]
    },
    {
     "name": "stdout",
     "output_type": "stream",
     "text": [
      "[CV 4/5] END activation=tanh, hidden_layer_sizes=(10, 30, 10), max_iter=30, solver=sgd;, score=0.724 total time=   0.1s\n",
      "[CV 5/5] END activation=tanh, hidden_layer_sizes=(10, 30, 10), max_iter=30, solver=sgd;, score=0.759 total time=   0.1s\n",
      "[CV 1/5] END activation=tanh, hidden_layer_sizes=(10, 30, 10), max_iter=30, solver=adam;, score=0.862 total time=   0.1s\n",
      "[CV 2/5] END activation=tanh, hidden_layer_sizes=(10, 30, 10), max_iter=30, solver=adam;, score=0.862 total time=   0.0s\n"
     ]
    },
    {
     "name": "stderr",
     "output_type": "stream",
     "text": [
      "/Users/neda/anaconda3/lib/python3.11/site-packages/sklearn/neural_network/_multilayer_perceptron.py:691: ConvergenceWarning: Stochastic Optimizer: Maximum iterations (30) reached and the optimization hasn't converged yet.\n",
      "  warnings.warn(\n",
      "/Users/neda/anaconda3/lib/python3.11/site-packages/sklearn/neural_network/_multilayer_perceptron.py:691: ConvergenceWarning: Stochastic Optimizer: Maximum iterations (30) reached and the optimization hasn't converged yet.\n",
      "  warnings.warn(\n",
      "/Users/neda/anaconda3/lib/python3.11/site-packages/sklearn/neural_network/_multilayer_perceptron.py:691: ConvergenceWarning: Stochastic Optimizer: Maximum iterations (30) reached and the optimization hasn't converged yet.\n",
      "  warnings.warn(\n",
      "/Users/neda/anaconda3/lib/python3.11/site-packages/sklearn/neural_network/_multilayer_perceptron.py:691: ConvergenceWarning: Stochastic Optimizer: Maximum iterations (30) reached and the optimization hasn't converged yet.\n",
      "  warnings.warn(\n"
     ]
    },
    {
     "name": "stdout",
     "output_type": "stream",
     "text": [
      "[CV 3/5] END activation=tanh, hidden_layer_sizes=(10, 30, 10), max_iter=30, solver=adam;, score=0.828 total time=   0.1s\n",
      "[CV 4/5] END activation=tanh, hidden_layer_sizes=(10, 30, 10), max_iter=30, solver=adam;, score=0.862 total time=   0.1s\n",
      "[CV 5/5] END activation=tanh, hidden_layer_sizes=(10, 30, 10), max_iter=30, solver=adam;, score=0.793 total time=   0.1s\n",
      "[CV 1/5] END activation=tanh, hidden_layer_sizes=25, max_iter=30, solver=sgd;, score=0.862 total time=   0.0s\n",
      "[CV 2/5] END activation=tanh, hidden_layer_sizes=25, max_iter=30, solver=sgd;, score=0.897 total time=   0.0s\n"
     ]
    },
    {
     "name": "stderr",
     "output_type": "stream",
     "text": [
      "/Users/neda/anaconda3/lib/python3.11/site-packages/sklearn/neural_network/_multilayer_perceptron.py:691: ConvergenceWarning: Stochastic Optimizer: Maximum iterations (30) reached and the optimization hasn't converged yet.\n",
      "  warnings.warn(\n",
      "/Users/neda/anaconda3/lib/python3.11/site-packages/sklearn/neural_network/_multilayer_perceptron.py:691: ConvergenceWarning: Stochastic Optimizer: Maximum iterations (30) reached and the optimization hasn't converged yet.\n",
      "  warnings.warn(\n",
      "/Users/neda/anaconda3/lib/python3.11/site-packages/sklearn/neural_network/_multilayer_perceptron.py:691: ConvergenceWarning: Stochastic Optimizer: Maximum iterations (30) reached and the optimization hasn't converged yet.\n",
      "  warnings.warn(\n",
      "/Users/neda/anaconda3/lib/python3.11/site-packages/sklearn/neural_network/_multilayer_perceptron.py:691: ConvergenceWarning: Stochastic Optimizer: Maximum iterations (30) reached and the optimization hasn't converged yet.\n",
      "  warnings.warn(\n",
      "/Users/neda/anaconda3/lib/python3.11/site-packages/sklearn/neural_network/_multilayer_perceptron.py:691: ConvergenceWarning: Stochastic Optimizer: Maximum iterations (30) reached and the optimization hasn't converged yet.\n",
      "  warnings.warn(\n",
      "/Users/neda/anaconda3/lib/python3.11/site-packages/sklearn/neural_network/_multilayer_perceptron.py:691: ConvergenceWarning: Stochastic Optimizer: Maximum iterations (30) reached and the optimization hasn't converged yet.\n",
      "  warnings.warn(\n"
     ]
    },
    {
     "name": "stdout",
     "output_type": "stream",
     "text": [
      "[CV 3/5] END activation=tanh, hidden_layer_sizes=25, max_iter=30, solver=sgd;, score=0.966 total time=   0.0s\n",
      "[CV 4/5] END activation=tanh, hidden_layer_sizes=25, max_iter=30, solver=sgd;, score=0.552 total time=   0.0s\n",
      "[CV 5/5] END activation=tanh, hidden_layer_sizes=25, max_iter=30, solver=sgd;, score=0.724 total time=   0.0s\n",
      "[CV 1/5] END activation=tanh, hidden_layer_sizes=25, max_iter=30, solver=adam;, score=0.759 total time=   0.0s\n",
      "[CV 2/5] END activation=tanh, hidden_layer_sizes=25, max_iter=30, solver=adam;, score=0.966 total time=   0.0s\n",
      "[CV 3/5] END activation=tanh, hidden_layer_sizes=25, max_iter=30, solver=adam;, score=0.862 total time=   0.0s\n"
     ]
    },
    {
     "name": "stderr",
     "output_type": "stream",
     "text": [
      "/Users/neda/anaconda3/lib/python3.11/site-packages/sklearn/neural_network/_multilayer_perceptron.py:691: ConvergenceWarning: Stochastic Optimizer: Maximum iterations (30) reached and the optimization hasn't converged yet.\n",
      "  warnings.warn(\n",
      "/Users/neda/anaconda3/lib/python3.11/site-packages/sklearn/neural_network/_multilayer_perceptron.py:691: ConvergenceWarning: Stochastic Optimizer: Maximum iterations (30) reached and the optimization hasn't converged yet.\n",
      "  warnings.warn(\n",
      "/Users/neda/anaconda3/lib/python3.11/site-packages/sklearn/neural_network/_multilayer_perceptron.py:691: ConvergenceWarning: Stochastic Optimizer: Maximum iterations (30) reached and the optimization hasn't converged yet.\n",
      "  warnings.warn(\n",
      "/Users/neda/anaconda3/lib/python3.11/site-packages/sklearn/neural_network/_multilayer_perceptron.py:691: ConvergenceWarning: Stochastic Optimizer: Maximum iterations (30) reached and the optimization hasn't converged yet.\n",
      "  warnings.warn(\n",
      "/Users/neda/anaconda3/lib/python3.11/site-packages/sklearn/neural_network/_multilayer_perceptron.py:691: ConvergenceWarning: Stochastic Optimizer: Maximum iterations (30) reached and the optimization hasn't converged yet.\n",
      "  warnings.warn(\n",
      "/Users/neda/anaconda3/lib/python3.11/site-packages/sklearn/neural_network/_multilayer_perceptron.py:691: ConvergenceWarning: Stochastic Optimizer: Maximum iterations (30) reached and the optimization hasn't converged yet.\n",
      "  warnings.warn(\n"
     ]
    },
    {
     "name": "stdout",
     "output_type": "stream",
     "text": [
      "[CV 4/5] END activation=tanh, hidden_layer_sizes=25, max_iter=30, solver=adam;, score=0.931 total time=   0.0s\n",
      "[CV 5/5] END activation=tanh, hidden_layer_sizes=25, max_iter=30, solver=adam;, score=0.483 total time=   0.0s\n",
      "[CV 1/5] END activation=tanh, hidden_layer_sizes=25, max_iter=30, solver=sgd;, score=0.862 total time=   0.0s\n",
      "[CV 2/5] END activation=tanh, hidden_layer_sizes=25, max_iter=30, solver=sgd;, score=0.621 total time=   0.0s\n",
      "[CV 3/5] END activation=tanh, hidden_layer_sizes=25, max_iter=30, solver=sgd;, score=0.828 total time=   0.0s\n",
      "[CV 4/5] END activation=tanh, hidden_layer_sizes=25, max_iter=30, solver=sgd;, score=0.828 total time=   0.0s\n"
     ]
    },
    {
     "name": "stderr",
     "output_type": "stream",
     "text": [
      "/Users/neda/anaconda3/lib/python3.11/site-packages/sklearn/neural_network/_multilayer_perceptron.py:691: ConvergenceWarning: Stochastic Optimizer: Maximum iterations (30) reached and the optimization hasn't converged yet.\n",
      "  warnings.warn(\n",
      "/Users/neda/anaconda3/lib/python3.11/site-packages/sklearn/neural_network/_multilayer_perceptron.py:691: ConvergenceWarning: Stochastic Optimizer: Maximum iterations (30) reached and the optimization hasn't converged yet.\n",
      "  warnings.warn(\n",
      "/Users/neda/anaconda3/lib/python3.11/site-packages/sklearn/neural_network/_multilayer_perceptron.py:691: ConvergenceWarning: Stochastic Optimizer: Maximum iterations (30) reached and the optimization hasn't converged yet.\n",
      "  warnings.warn(\n",
      "/Users/neda/anaconda3/lib/python3.11/site-packages/sklearn/neural_network/_multilayer_perceptron.py:691: ConvergenceWarning: Stochastic Optimizer: Maximum iterations (30) reached and the optimization hasn't converged yet.\n",
      "  warnings.warn(\n",
      "/Users/neda/anaconda3/lib/python3.11/site-packages/sklearn/neural_network/_multilayer_perceptron.py:691: ConvergenceWarning: Stochastic Optimizer: Maximum iterations (30) reached and the optimization hasn't converged yet.\n",
      "  warnings.warn(\n",
      "/Users/neda/anaconda3/lib/python3.11/site-packages/sklearn/neural_network/_multilayer_perceptron.py:691: ConvergenceWarning: Stochastic Optimizer: Maximum iterations (30) reached and the optimization hasn't converged yet.\n",
      "  warnings.warn(\n"
     ]
    },
    {
     "name": "stdout",
     "output_type": "stream",
     "text": [
      "[CV 5/5] END activation=tanh, hidden_layer_sizes=25, max_iter=30, solver=sgd;, score=0.552 total time=   0.0s\n",
      "[CV 1/5] END activation=tanh, hidden_layer_sizes=25, max_iter=30, solver=adam;, score=0.793 total time=   0.0s\n",
      "[CV 2/5] END activation=tanh, hidden_layer_sizes=25, max_iter=30, solver=adam;, score=0.724 total time=   0.1s\n",
      "[CV 3/5] END activation=tanh, hidden_layer_sizes=25, max_iter=30, solver=adam;, score=0.828 total time=   0.1s\n"
     ]
    },
    {
     "name": "stderr",
     "output_type": "stream",
     "text": [
      "/Users/neda/anaconda3/lib/python3.11/site-packages/sklearn/neural_network/_multilayer_perceptron.py:691: ConvergenceWarning: Stochastic Optimizer: Maximum iterations (30) reached and the optimization hasn't converged yet.\n",
      "  warnings.warn(\n",
      "/Users/neda/anaconda3/lib/python3.11/site-packages/sklearn/neural_network/_multilayer_perceptron.py:691: ConvergenceWarning: Stochastic Optimizer: Maximum iterations (30) reached and the optimization hasn't converged yet.\n",
      "  warnings.warn(\n",
      "/Users/neda/anaconda3/lib/python3.11/site-packages/sklearn/neural_network/_multilayer_perceptron.py:691: ConvergenceWarning: Stochastic Optimizer: Maximum iterations (30) reached and the optimization hasn't converged yet.\n",
      "  warnings.warn(\n",
      "/Users/neda/anaconda3/lib/python3.11/site-packages/sklearn/neural_network/_multilayer_perceptron.py:691: ConvergenceWarning: Stochastic Optimizer: Maximum iterations (30) reached and the optimization hasn't converged yet.\n",
      "  warnings.warn(\n"
     ]
    },
    {
     "name": "stdout",
     "output_type": "stream",
     "text": [
      "[CV 4/5] END activation=tanh, hidden_layer_sizes=25, max_iter=30, solver=adam;, score=0.862 total time=   0.0s\n",
      "[CV 5/5] END activation=tanh, hidden_layer_sizes=25, max_iter=30, solver=adam;, score=0.483 total time=   0.1s\n",
      "[CV 1/5] END activation=relu, hidden_layer_sizes=(10, 30, 10), max_iter=30, solver=sgd;, score=1.000 total time=   0.0s\n",
      "[CV 2/5] END activation=relu, hidden_layer_sizes=(10, 30, 10), max_iter=30, solver=sgd;, score=0.000 total time=   0.0s\n",
      "[CV 3/5] END activation=relu, hidden_layer_sizes=(10, 30, 10), max_iter=30, solver=sgd;, score=0.000 total time=   0.0s\n"
     ]
    },
    {
     "name": "stderr",
     "output_type": "stream",
     "text": [
      "/Users/neda/anaconda3/lib/python3.11/site-packages/sklearn/neural_network/_multilayer_perceptron.py:691: ConvergenceWarning: Stochastic Optimizer: Maximum iterations (30) reached and the optimization hasn't converged yet.\n",
      "  warnings.warn(\n",
      "/Users/neda/anaconda3/lib/python3.11/site-packages/sklearn/neural_network/_multilayer_perceptron.py:691: ConvergenceWarning: Stochastic Optimizer: Maximum iterations (30) reached and the optimization hasn't converged yet.\n",
      "  warnings.warn(\n",
      "/Users/neda/anaconda3/lib/python3.11/site-packages/sklearn/neural_network/_multilayer_perceptron.py:691: ConvergenceWarning: Stochastic Optimizer: Maximum iterations (30) reached and the optimization hasn't converged yet.\n",
      "  warnings.warn(\n",
      "/Users/neda/anaconda3/lib/python3.11/site-packages/sklearn/neural_network/_multilayer_perceptron.py:691: ConvergenceWarning: Stochastic Optimizer: Maximum iterations (30) reached and the optimization hasn't converged yet.\n",
      "  warnings.warn(\n",
      "/Users/neda/anaconda3/lib/python3.11/site-packages/sklearn/neural_network/_multilayer_perceptron.py:691: ConvergenceWarning: Stochastic Optimizer: Maximum iterations (30) reached and the optimization hasn't converged yet.\n",
      "  warnings.warn(\n",
      "/Users/neda/anaconda3/lib/python3.11/site-packages/sklearn/neural_network/_multilayer_perceptron.py:691: ConvergenceWarning: Stochastic Optimizer: Maximum iterations (30) reached and the optimization hasn't converged yet.\n",
      "  warnings.warn(\n"
     ]
    },
    {
     "name": "stdout",
     "output_type": "stream",
     "text": [
      "[CV 4/5] END activation=relu, hidden_layer_sizes=(10, 30, 10), max_iter=30, solver=sgd;, score=0.207 total time=   0.0s\n",
      "[CV 5/5] END activation=relu, hidden_layer_sizes=(10, 30, 10), max_iter=30, solver=sgd;, score=0.897 total time=   0.0s\n",
      "[CV 1/5] END activation=relu, hidden_layer_sizes=(10, 30, 10), max_iter=30, solver=adam;, score=0.069 total time=   0.0s\n",
      "[CV 2/5] END activation=relu, hidden_layer_sizes=(10, 30, 10), max_iter=30, solver=adam;, score=0.793 total time=   0.0s\n",
      "[CV 3/5] END activation=relu, hidden_layer_sizes=(10, 30, 10), max_iter=30, solver=adam;, score=0.828 total time=   0.0s\n"
     ]
    },
    {
     "name": "stderr",
     "output_type": "stream",
     "text": [
      "/Users/neda/anaconda3/lib/python3.11/site-packages/sklearn/neural_network/_multilayer_perceptron.py:691: ConvergenceWarning: Stochastic Optimizer: Maximum iterations (30) reached and the optimization hasn't converged yet.\n",
      "  warnings.warn(\n",
      "/Users/neda/anaconda3/lib/python3.11/site-packages/sklearn/neural_network/_multilayer_perceptron.py:691: ConvergenceWarning: Stochastic Optimizer: Maximum iterations (30) reached and the optimization hasn't converged yet.\n",
      "  warnings.warn(\n",
      "/Users/neda/anaconda3/lib/python3.11/site-packages/sklearn/neural_network/_multilayer_perceptron.py:691: ConvergenceWarning: Stochastic Optimizer: Maximum iterations (30) reached and the optimization hasn't converged yet.\n",
      "  warnings.warn(\n",
      "/Users/neda/anaconda3/lib/python3.11/site-packages/sklearn/neural_network/_multilayer_perceptron.py:691: ConvergenceWarning: Stochastic Optimizer: Maximum iterations (30) reached and the optimization hasn't converged yet.\n",
      "  warnings.warn(\n",
      "/Users/neda/anaconda3/lib/python3.11/site-packages/sklearn/neural_network/_multilayer_perceptron.py:691: ConvergenceWarning: Stochastic Optimizer: Maximum iterations (30) reached and the optimization hasn't converged yet.\n",
      "  warnings.warn(\n"
     ]
    },
    {
     "name": "stdout",
     "output_type": "stream",
     "text": [
      "[CV 4/5] END activation=relu, hidden_layer_sizes=(10, 30, 10), max_iter=30, solver=adam;, score=0.793 total time=   0.0s\n",
      "[CV 5/5] END activation=relu, hidden_layer_sizes=(10, 30, 10), max_iter=30, solver=adam;, score=0.966 total time=   0.1s\n",
      "[CV 1/5] END activation=relu, hidden_layer_sizes=25, max_iter=30, solver=sgd;, score=0.828 total time=   0.0s\n",
      "[CV 2/5] END activation=relu, hidden_layer_sizes=25, max_iter=30, solver=sgd;, score=0.724 total time=   0.0s\n",
      "[CV 3/5] END activation=relu, hidden_layer_sizes=25, max_iter=30, solver=sgd;, score=0.000 total time=   0.0s\n",
      "[CV 4/5] END activation=relu, hidden_layer_sizes=25, max_iter=30, solver=sgd;, score=0.000 total time=   0.0s\n",
      "[CV 5/5] END activation=relu, hidden_layer_sizes=25, max_iter=30, solver=sgd;, score=0.793 total time=   0.0s\n"
     ]
    },
    {
     "name": "stderr",
     "output_type": "stream",
     "text": [
      "/Users/neda/anaconda3/lib/python3.11/site-packages/sklearn/neural_network/_multilayer_perceptron.py:691: ConvergenceWarning: Stochastic Optimizer: Maximum iterations (30) reached and the optimization hasn't converged yet.\n",
      "  warnings.warn(\n",
      "/Users/neda/anaconda3/lib/python3.11/site-packages/sklearn/neural_network/_multilayer_perceptron.py:691: ConvergenceWarning: Stochastic Optimizer: Maximum iterations (30) reached and the optimization hasn't converged yet.\n",
      "  warnings.warn(\n",
      "/Users/neda/anaconda3/lib/python3.11/site-packages/sklearn/neural_network/_multilayer_perceptron.py:691: ConvergenceWarning: Stochastic Optimizer: Maximum iterations (30) reached and the optimization hasn't converged yet.\n",
      "  warnings.warn(\n",
      "/Users/neda/anaconda3/lib/python3.11/site-packages/sklearn/neural_network/_multilayer_perceptron.py:691: ConvergenceWarning: Stochastic Optimizer: Maximum iterations (30) reached and the optimization hasn't converged yet.\n",
      "  warnings.warn(\n",
      "/Users/neda/anaconda3/lib/python3.11/site-packages/sklearn/neural_network/_multilayer_perceptron.py:691: ConvergenceWarning: Stochastic Optimizer: Maximum iterations (30) reached and the optimization hasn't converged yet.\n",
      "  warnings.warn(\n",
      "/Users/neda/anaconda3/lib/python3.11/site-packages/sklearn/neural_network/_multilayer_perceptron.py:691: ConvergenceWarning: Stochastic Optimizer: Maximum iterations (30) reached and the optimization hasn't converged yet.\n",
      "  warnings.warn(\n",
      "/Users/neda/anaconda3/lib/python3.11/site-packages/sklearn/neural_network/_multilayer_perceptron.py:691: ConvergenceWarning: Stochastic Optimizer: Maximum iterations (30) reached and the optimization hasn't converged yet.\n",
      "  warnings.warn(\n",
      "/Users/neda/anaconda3/lib/python3.11/site-packages/sklearn/neural_network/_multilayer_perceptron.py:691: ConvergenceWarning: Stochastic Optimizer: Maximum iterations (30) reached and the optimization hasn't converged yet.\n",
      "  warnings.warn(\n"
     ]
    },
    {
     "name": "stdout",
     "output_type": "stream",
     "text": [
      "[CV 1/5] END activation=relu, hidden_layer_sizes=25, max_iter=30, solver=adam;, score=0.828 total time=   0.0s\n",
      "[CV 2/5] END activation=relu, hidden_layer_sizes=25, max_iter=30, solver=adam;, score=0.724 total time=   0.0s\n",
      "[CV 3/5] END activation=relu, hidden_layer_sizes=25, max_iter=30, solver=adam;, score=0.759 total time=   0.0s\n",
      "[CV 4/5] END activation=relu, hidden_layer_sizes=25, max_iter=30, solver=adam;, score=0.897 total time=   0.0s\n",
      "[CV 5/5] END activation=relu, hidden_layer_sizes=25, max_iter=30, solver=adam;, score=0.552 total time=   0.0s\n",
      "[CV 1/5] END activation=relu, hidden_layer_sizes=25, max_iter=30, solver=sgd;, score=0.621 total time=   0.0s\n",
      "[CV 2/5] END activation=relu, hidden_layer_sizes=25, max_iter=30, solver=sgd;, score=0.483 total time=   0.0s\n",
      "[CV 3/5] END activation=relu, hidden_layer_sizes=25, max_iter=30, solver=sgd;, score=1.000 total time=   0.0s\n"
     ]
    },
    {
     "name": "stderr",
     "output_type": "stream",
     "text": [
      "/Users/neda/anaconda3/lib/python3.11/site-packages/sklearn/neural_network/_multilayer_perceptron.py:691: ConvergenceWarning: Stochastic Optimizer: Maximum iterations (30) reached and the optimization hasn't converged yet.\n",
      "  warnings.warn(\n",
      "/Users/neda/anaconda3/lib/python3.11/site-packages/sklearn/neural_network/_multilayer_perceptron.py:691: ConvergenceWarning: Stochastic Optimizer: Maximum iterations (30) reached and the optimization hasn't converged yet.\n",
      "  warnings.warn(\n",
      "/Users/neda/anaconda3/lib/python3.11/site-packages/sklearn/neural_network/_multilayer_perceptron.py:691: ConvergenceWarning: Stochastic Optimizer: Maximum iterations (30) reached and the optimization hasn't converged yet.\n",
      "  warnings.warn(\n",
      "/Users/neda/anaconda3/lib/python3.11/site-packages/sklearn/neural_network/_multilayer_perceptron.py:691: ConvergenceWarning: Stochastic Optimizer: Maximum iterations (30) reached and the optimization hasn't converged yet.\n",
      "  warnings.warn(\n",
      "/Users/neda/anaconda3/lib/python3.11/site-packages/sklearn/neural_network/_multilayer_perceptron.py:691: ConvergenceWarning: Stochastic Optimizer: Maximum iterations (30) reached and the optimization hasn't converged yet.\n",
      "  warnings.warn(\n",
      "/Users/neda/anaconda3/lib/python3.11/site-packages/sklearn/neural_network/_multilayer_perceptron.py:691: ConvergenceWarning: Stochastic Optimizer: Maximum iterations (30) reached and the optimization hasn't converged yet.\n",
      "  warnings.warn(\n",
      "/Users/neda/anaconda3/lib/python3.11/site-packages/sklearn/neural_network/_multilayer_perceptron.py:691: ConvergenceWarning: Stochastic Optimizer: Maximum iterations (30) reached and the optimization hasn't converged yet.\n",
      "  warnings.warn(\n"
     ]
    },
    {
     "name": "stdout",
     "output_type": "stream",
     "text": [
      "[CV 4/5] END activation=relu, hidden_layer_sizes=25, max_iter=30, solver=sgd;, score=0.793 total time=   0.0s\n",
      "[CV 5/5] END activation=relu, hidden_layer_sizes=25, max_iter=30, solver=sgd;, score=0.828 total time=   0.0s\n",
      "[CV 1/5] END activation=relu, hidden_layer_sizes=25, max_iter=30, solver=adam;, score=0.724 total time=   0.0s\n",
      "[CV 2/5] END activation=relu, hidden_layer_sizes=25, max_iter=30, solver=adam;, score=0.724 total time=   0.0s\n",
      "[CV 3/5] END activation=relu, hidden_layer_sizes=25, max_iter=30, solver=adam;, score=0.207 total time=   0.0s\n",
      "[CV 4/5] END activation=relu, hidden_layer_sizes=25, max_iter=30, solver=adam;, score=0.862 total time=   0.0s\n",
      "[CV 5/5] END activation=relu, hidden_layer_sizes=25, max_iter=30, solver=adam;, score=0.586 total time=   0.0s\n"
     ]
    },
    {
     "name": "stderr",
     "output_type": "stream",
     "text": [
      "/Users/neda/anaconda3/lib/python3.11/site-packages/sklearn/neural_network/_multilayer_perceptron.py:691: ConvergenceWarning: Stochastic Optimizer: Maximum iterations (30) reached and the optimization hasn't converged yet.\n",
      "  warnings.warn(\n",
      "/Users/neda/anaconda3/lib/python3.11/site-packages/sklearn/neural_network/_multilayer_perceptron.py:691: ConvergenceWarning: Stochastic Optimizer: Maximum iterations (30) reached and the optimization hasn't converged yet.\n",
      "  warnings.warn(\n",
      "/Users/neda/anaconda3/lib/python3.11/site-packages/sklearn/neural_network/_multilayer_perceptron.py:691: ConvergenceWarning: Stochastic Optimizer: Maximum iterations (30) reached and the optimization hasn't converged yet.\n",
      "  warnings.warn(\n",
      "/Users/neda/anaconda3/lib/python3.11/site-packages/sklearn/neural_network/_multilayer_perceptron.py:691: ConvergenceWarning: Stochastic Optimizer: Maximum iterations (30) reached and the optimization hasn't converged yet.\n",
      "  warnings.warn(\n",
      "/Users/neda/anaconda3/lib/python3.11/site-packages/sklearn/neural_network/_multilayer_perceptron.py:691: ConvergenceWarning: Stochastic Optimizer: Maximum iterations (30) reached and the optimization hasn't converged yet.\n",
      "  warnings.warn(\n"
     ]
    },
    {
     "data": {
      "text/html": [
       "<style>#sk-container-id-2 {color: black;}#sk-container-id-2 pre{padding: 0;}#sk-container-id-2 div.sk-toggleable {background-color: white;}#sk-container-id-2 label.sk-toggleable__label {cursor: pointer;display: block;width: 100%;margin-bottom: 0;padding: 0.3em;box-sizing: border-box;text-align: center;}#sk-container-id-2 label.sk-toggleable__label-arrow:before {content: \"▸\";float: left;margin-right: 0.25em;color: #696969;}#sk-container-id-2 label.sk-toggleable__label-arrow:hover:before {color: black;}#sk-container-id-2 div.sk-estimator:hover label.sk-toggleable__label-arrow:before {color: black;}#sk-container-id-2 div.sk-toggleable__content {max-height: 0;max-width: 0;overflow: hidden;text-align: left;background-color: #f0f8ff;}#sk-container-id-2 div.sk-toggleable__content pre {margin: 0.2em;color: black;border-radius: 0.25em;background-color: #f0f8ff;}#sk-container-id-2 input.sk-toggleable__control:checked~div.sk-toggleable__content {max-height: 200px;max-width: 100%;overflow: auto;}#sk-container-id-2 input.sk-toggleable__control:checked~label.sk-toggleable__label-arrow:before {content: \"▾\";}#sk-container-id-2 div.sk-estimator input.sk-toggleable__control:checked~label.sk-toggleable__label {background-color: #d4ebff;}#sk-container-id-2 div.sk-label input.sk-toggleable__control:checked~label.sk-toggleable__label {background-color: #d4ebff;}#sk-container-id-2 input.sk-hidden--visually {border: 0;clip: rect(1px 1px 1px 1px);clip: rect(1px, 1px, 1px, 1px);height: 1px;margin: -1px;overflow: hidden;padding: 0;position: absolute;width: 1px;}#sk-container-id-2 div.sk-estimator {font-family: monospace;background-color: #f0f8ff;border: 1px dotted black;border-radius: 0.25em;box-sizing: border-box;margin-bottom: 0.5em;}#sk-container-id-2 div.sk-estimator:hover {background-color: #d4ebff;}#sk-container-id-2 div.sk-parallel-item::after {content: \"\";width: 100%;border-bottom: 1px solid gray;flex-grow: 1;}#sk-container-id-2 div.sk-label:hover label.sk-toggleable__label {background-color: #d4ebff;}#sk-container-id-2 div.sk-serial::before {content: \"\";position: absolute;border-left: 1px solid gray;box-sizing: border-box;top: 0;bottom: 0;left: 50%;z-index: 0;}#sk-container-id-2 div.sk-serial {display: flex;flex-direction: column;align-items: center;background-color: white;padding-right: 0.2em;padding-left: 0.2em;position: relative;}#sk-container-id-2 div.sk-item {position: relative;z-index: 1;}#sk-container-id-2 div.sk-parallel {display: flex;align-items: stretch;justify-content: center;background-color: white;position: relative;}#sk-container-id-2 div.sk-item::before, #sk-container-id-2 div.sk-parallel-item::before {content: \"\";position: absolute;border-left: 1px solid gray;box-sizing: border-box;top: 0;bottom: 0;left: 50%;z-index: -1;}#sk-container-id-2 div.sk-parallel-item {display: flex;flex-direction: column;z-index: 1;position: relative;background-color: white;}#sk-container-id-2 div.sk-parallel-item:first-child::after {align-self: flex-end;width: 50%;}#sk-container-id-2 div.sk-parallel-item:last-child::after {align-self: flex-start;width: 50%;}#sk-container-id-2 div.sk-parallel-item:only-child::after {width: 0;}#sk-container-id-2 div.sk-dashed-wrapped {border: 1px dashed gray;margin: 0 0.4em 0.5em 0.4em;box-sizing: border-box;padding-bottom: 0.4em;background-color: white;}#sk-container-id-2 div.sk-label label {font-family: monospace;font-weight: bold;display: inline-block;line-height: 1.2em;}#sk-container-id-2 div.sk-label-container {text-align: center;}#sk-container-id-2 div.sk-container {/* jupyter's `normalize.less` sets `[hidden] { display: none; }` but bootstrap.min.css set `[hidden] { display: none !important; }` so we also need the `!important` here to be able to override the default hidden behavior on the sphinx rendered scikit-learn.org. See: https://github.com/scikit-learn/scikit-learn/issues/21755 */display: inline-block !important;position: relative;}#sk-container-id-2 div.sk-text-repr-fallback {display: none;}</style><div id=\"sk-container-id-2\" class=\"sk-top-container\"><div class=\"sk-text-repr-fallback\"><pre>GridSearchCV(cv=5, estimator=MLPClassifier(),\n",
       "             param_grid={&#x27;activation&#x27;: [&#x27;tanh&#x27;, &#x27;relu&#x27;],\n",
       "                         &#x27;hidden_layer_sizes&#x27;: [(10, 30, 10), 25, 25],\n",
       "                         &#x27;max_iter&#x27;: [30], &#x27;solver&#x27;: [&#x27;sgd&#x27;, &#x27;adam&#x27;]},\n",
       "             scoring=&#x27;recall&#x27;, verbose=3)</pre><b>In a Jupyter environment, please rerun this cell to show the HTML representation or trust the notebook. <br />On GitHub, the HTML representation is unable to render, please try loading this page with nbviewer.org.</b></div><div class=\"sk-container\" hidden><div class=\"sk-item sk-dashed-wrapped\"><div class=\"sk-label-container\"><div class=\"sk-label sk-toggleable\"><input class=\"sk-toggleable__control sk-hidden--visually\" id=\"sk-estimator-id-4\" type=\"checkbox\" ><label for=\"sk-estimator-id-4\" class=\"sk-toggleable__label sk-toggleable__label-arrow\">GridSearchCV</label><div class=\"sk-toggleable__content\"><pre>GridSearchCV(cv=5, estimator=MLPClassifier(),\n",
       "             param_grid={&#x27;activation&#x27;: [&#x27;tanh&#x27;, &#x27;relu&#x27;],\n",
       "                         &#x27;hidden_layer_sizes&#x27;: [(10, 30, 10), 25, 25],\n",
       "                         &#x27;max_iter&#x27;: [30], &#x27;solver&#x27;: [&#x27;sgd&#x27;, &#x27;adam&#x27;]},\n",
       "             scoring=&#x27;recall&#x27;, verbose=3)</pre></div></div></div><div class=\"sk-parallel\"><div class=\"sk-parallel-item\"><div class=\"sk-item\"><div class=\"sk-label-container\"><div class=\"sk-label sk-toggleable\"><input class=\"sk-toggleable__control sk-hidden--visually\" id=\"sk-estimator-id-5\" type=\"checkbox\" ><label for=\"sk-estimator-id-5\" class=\"sk-toggleable__label sk-toggleable__label-arrow\">estimator: MLPClassifier</label><div class=\"sk-toggleable__content\"><pre>MLPClassifier()</pre></div></div></div><div class=\"sk-serial\"><div class=\"sk-item\"><div class=\"sk-estimator sk-toggleable\"><input class=\"sk-toggleable__control sk-hidden--visually\" id=\"sk-estimator-id-6\" type=\"checkbox\" ><label for=\"sk-estimator-id-6\" class=\"sk-toggleable__label sk-toggleable__label-arrow\">MLPClassifier</label><div class=\"sk-toggleable__content\"><pre>MLPClassifier()</pre></div></div></div></div></div></div></div></div></div></div>"
      ],
      "text/plain": [
       "GridSearchCV(cv=5, estimator=MLPClassifier(),\n",
       "             param_grid={'activation': ['tanh', 'relu'],\n",
       "                         'hidden_layer_sizes': [(10, 30, 10), 25, 25],\n",
       "                         'max_iter': [30], 'solver': ['sgd', 'adam']},\n",
       "             scoring='recall', verbose=3)"
      ]
     },
     "execution_count": 24,
     "metadata": {},
     "output_type": "execute_result"
    }
   ],
   "source": [
    "from sklearn.neural_network import MLPClassifier\n",
    "\n",
    "parameters_nn = {'hidden_layer_sizes':[(10,30,10) ,(25), (25)], 'solver':['sgd','adam'],\n",
    "                 'activation':['tanh', 'relu'], 'max_iter':[800]}\n",
    "classifier_nn = MLPClassifier()\n",
    "clf = GridSearchCV(classifier_nn, parameters_nn, scoring='recall', cv=5, verbose=3)\n",
    "clf.fit(X_train_std, y_train)"
   ]
  },
  {
   "cell_type": "code",
   "execution_count": 25,
   "id": "290ace61",
   "metadata": {},
   "outputs": [
    {
     "name": "stdout",
     "output_type": "stream",
     "text": [
      "Najbolja senzitivnost:  0.8413793103448276\n",
      "Najbolji hiperparametri:  {'activation': 'tanh', 'hidden_layer_sizes': (10, 30, 10), 'max_iter': 30, 'solver': 'adam'}\n"
     ]
    }
   ],
   "source": [
    "print(\"Najbolja senzitivnost: \", clf.best_score_)\n",
    "print(\"Najbolji hiperparametri: \", clf.best_params_)"
   ]
  },
  {
   "cell_type": "code",
   "execution_count": 27,
   "id": "d39b855b",
   "metadata": {},
   "outputs": [
    {
     "name": "stderr",
     "output_type": "stream",
     "text": [
      "/Users/neda/anaconda3/lib/python3.11/site-packages/sklearn/neural_network/_multilayer_perceptron.py:691: ConvergenceWarning: Stochastic Optimizer: Maximum iterations (30) reached and the optimization hasn't converged yet.\n",
      "  warnings.warn(\n"
     ]
    }
   ],
   "source": [
    "classifier_nn = MLPClassifier(hidden_layer_sizes =(10,30,10),max_iter = 30, activation = 'tanh', solver='adam')\n",
    "classifier_nn.fit(X_train_std,y_train)\n",
    "y_pred_nn = classifier_nn.predict(X_val_std)"
   ]
  },
  {
   "cell_type": "code",
   "execution_count": 61,
   "id": "e6554a3b",
   "metadata": {},
   "outputs": [
    {
     "name": "stdout",
     "output_type": "stream",
     "text": [
      "[[16  1]\n",
      " [ 4 13]]\n"
     ]
    },
    {
     "data": {
      "text/plain": [
       "<sklearn.metrics._plot.confusion_matrix.ConfusionMatrixDisplay at 0x1301c2a50>"
      ]
     },
     "execution_count": 61,
     "metadata": {},
     "output_type": "execute_result"
    },
    {
     "data": {
      "image/png": "[encoded data removed]",
      "text/plain": [
       "<Figure size 640x480 with 2 Axes>"
      ]
     },
     "metadata": {},
     "output_type": "display_data"
    }
   ],
   "source": [
    "conf_mat = confusion_matrix(y_val, y_pred_nn, labels=classifier_nn.classes_) \n",
    "print(conf_mat)  \n",
    "disp = ConfusionMatrixDisplay(confusion_matrix=conf_mat,  display_labels=classifier_nn.classes_)\n",
    "disp.plot(cmap=\"Reds\")"
   ]
  },
  {
   "cell_type": "code",
   "execution_count": 62,
   "id": "f8eb6c6f",
   "metadata": {},
   "outputs": [
    {
     "name": "stdout",
     "output_type": "stream",
     "text": [
      "precision:  0.9285714285714286\n",
      "accuracy:  0.8529411764705882\n",
      "sensitivity/recall:  0.7647058823529411\n",
      "F score:  0.8387096774193549\n"
     ]
    }
   ],
   "source": [
    "precision = metrics.precision_score(y_val, y_pred_nn)\n",
    "accuracy = metrics.accuracy_score(y_val, y_pred_nn)\n",
    "sensitivity = metrics.recall_score(y_val, y_pred_nn)\n",
    "f_score = metrics.f1_score(y_val, y_pred_nn)\n",
    "\n",
    "print('precision: ', precision)\n",
    "print('accuracy: ', accuracy)\n",
    "print('sensitivity/recall: ', sensitivity)\n",
    "print('F score: ', f_score)"
   ]
  },
  {
   "cell_type": "code",
   "execution_count": 63,
   "id": "1ded3b90",
   "metadata": {},
   "outputs": [],
   "source": [
    "from sklearn.decomposition import PCA"
   ]
  },
  {
   "cell_type": "code",
   "execution_count": 64,
   "id": "21419a28",
   "metadata": {},
   "outputs": [],
   "source": [
    "pca = PCA(n_components=0.9)\n",
    "pca.fit(X_train_std)\n",
    "X_train_r = pca.transform(X_train_std)\n",
    "X_test_r = pca.transform(X_val_std)"
   ]
  },
  {
   "cell_type": "code",
   "execution_count": 66,
   "id": "e917bfd8",
   "metadata": {},
   "outputs": [
    {
     "name": "stdout",
     "output_type": "stream",
     "text": [
      "Fitting 5 folds for each of 15 candidates, totalling 75 fits\n",
      "[CV 1/5] END .....metric=hamming, n_neighbors=1;, score=1.000 total time=   0.0s\n",
      "[CV 2/5] END .....metric=hamming, n_neighbors=1;, score=0.000 total time=   0.0s\n",
      "[CV 3/5] END .....metric=hamming, n_neighbors=1;, score=0.000 total time=   0.0s\n",
      "[CV 4/5] END .....metric=hamming, n_neighbors=1;, score=0.000 total time=   0.0s\n",
      "[CV 5/5] END .....metric=hamming, n_neighbors=1;, score=0.000 total time=   0.0s\n",
      "[CV 1/5] END .....metric=hamming, n_neighbors=2;, score=0.000 total time=   0.0s\n",
      "[CV 2/5] END .....metric=hamming, n_neighbors=2;, score=0.000 total time=   0.0s\n",
      "[CV 3/5] END .....metric=hamming, n_neighbors=2;, score=0.000 total time=   0.0s\n",
      "[CV 4/5] END .....metric=hamming, n_neighbors=2;, score=0.000 total time=   0.0s\n",
      "[CV 5/5] END .....metric=hamming, n_neighbors=2;, score=0.000 total time=   0.0s\n",
      "[CV 1/5] END .....metric=hamming, n_neighbors=3;, score=0.000 total time=   0.0s\n",
      "[CV 2/5] END .....metric=hamming, n_neighbors=3;, score=0.000 total time=   0.0s\n",
      "[CV 3/5] END .....metric=hamming, n_neighbors=3;, score=0.000 total time=   0.0s\n",
      "[CV 4/5] END .....metric=hamming, n_neighbors=3;, score=0.000 total time=   0.0s\n",
      "[CV 5/5] END .....metric=hamming, n_neighbors=3;, score=0.000 total time=   0.0s\n",
      "[CV 1/5] END .....metric=hamming, n_neighbors=4;, score=0.000 total time=   0.0s\n",
      "[CV 2/5] END .....metric=hamming, n_neighbors=4;, score=0.000 total time=   0.0s\n",
      "[CV 3/5] END .....metric=hamming, n_neighbors=4;, score=0.000 total time=   0.0s\n",
      "[CV 4/5] END .....metric=hamming, n_neighbors=4;, score=0.000 total time=   0.0s\n",
      "[CV 5/5] END .....metric=hamming, n_neighbors=4;, score=0.000 total time=   0.0s\n",
      "[CV 1/5] END .....metric=hamming, n_neighbors=5;, score=0.000 total time=   0.0s\n",
      "[CV 2/5] END .....metric=hamming, n_neighbors=5;, score=0.000 total time=   0.0s\n",
      "[CV 3/5] END .....metric=hamming, n_neighbors=5;, score=0.000 total time=   0.0s\n",
      "[CV 4/5] END .....metric=hamming, n_neighbors=5;, score=0.000 total time=   0.0s\n",
      "[CV 5/5] END .....metric=hamming, n_neighbors=5;, score=0.000 total time=   0.0s\n",
      "[CV 1/5] END ...metric=euclidean, n_neighbors=1;, score=0.862 total time=   0.0s\n",
      "[CV 2/5] END ...metric=euclidean, n_neighbors=1;, score=0.897 total time=   0.0s\n",
      "[CV 3/5] END ...metric=euclidean, n_neighbors=1;, score=0.966 total time=   0.0s\n",
      "[CV 4/5] END ...metric=euclidean, n_neighbors=1;, score=0.966 total time=   0.0s\n",
      "[CV 5/5] END ...metric=euclidean, n_neighbors=1;, score=0.862 total time=   0.0s\n",
      "[CV 1/5] END ...metric=euclidean, n_neighbors=2;, score=0.793 total time=   0.0s\n",
      "[CV 2/5] END ...metric=euclidean, n_neighbors=2;, score=0.828 total time=   0.0s\n",
      "[CV 3/5] END ...metric=euclidean, n_neighbors=2;, score=0.897 total time=   0.0s\n",
      "[CV 4/5] END ...metric=euclidean, n_neighbors=2;, score=0.828 total time=   0.0s\n",
      "[CV 5/5] END ...metric=euclidean, n_neighbors=2;, score=0.724 total time=   0.0s\n",
      "[CV 1/5] END ...metric=euclidean, n_neighbors=3;, score=0.793 total time=   0.0s\n",
      "[CV 2/5] END ...metric=euclidean, n_neighbors=3;, score=0.931 total time=   0.0s\n",
      "[CV 3/5] END ...metric=euclidean, n_neighbors=3;, score=0.966 total time=   0.0s\n",
      "[CV 4/5] END ...metric=euclidean, n_neighbors=3;, score=0.931 total time=   0.0s\n",
      "[CV 5/5] END ...metric=euclidean, n_neighbors=3;, score=0.793 total time=   0.0s\n",
      "[CV 1/5] END ...metric=euclidean, n_neighbors=4;, score=0.793 total time=   0.0s\n",
      "[CV 2/5] END ...metric=euclidean, n_neighbors=4;, score=0.828 total time=   0.0s\n",
      "[CV 3/5] END ...metric=euclidean, n_neighbors=4;, score=0.828 total time=   0.0s\n",
      "[CV 4/5] END ...metric=euclidean, n_neighbors=4;, score=0.828 total time=   0.0s\n",
      "[CV 5/5] END ...metric=euclidean, n_neighbors=4;, score=0.724 total time=   0.0s\n",
      "[CV 1/5] END ...metric=euclidean, n_neighbors=5;, score=0.793 total time=   0.0s\n",
      "[CV 2/5] END ...metric=euclidean, n_neighbors=5;, score=0.897 total time=   0.0s\n",
      "[CV 3/5] END ...metric=euclidean, n_neighbors=5;, score=0.931 total time=   0.0s\n",
      "[CV 4/5] END ...metric=euclidean, n_neighbors=5;, score=0.897 total time=   0.0s\n",
      "[CV 5/5] END ...metric=euclidean, n_neighbors=5;, score=0.724 total time=   0.0s\n",
      "[CV 1/5] END ...metric=manhattan, n_neighbors=1;, score=0.862 total time=   0.0s\n",
      "[CV 2/5] END ...metric=manhattan, n_neighbors=1;, score=0.828 total time=   0.0s\n",
      "[CV 3/5] END ...metric=manhattan, n_neighbors=1;, score=0.931 total time=   0.0s\n",
      "[CV 4/5] END ...metric=manhattan, n_neighbors=1;, score=0.897 total time=   0.0s\n",
      "[CV 5/5] END ...metric=manhattan, n_neighbors=1;, score=0.793 total time=   0.0s\n",
      "[CV 1/5] END ...metric=manhattan, n_neighbors=2;, score=0.793 total time=   0.0s\n",
      "[CV 2/5] END ...metric=manhattan, n_neighbors=2;, score=0.759 total time=   0.0s\n",
      "[CV 3/5] END ...metric=manhattan, n_neighbors=2;, score=0.828 total time=   0.0s\n",
      "[CV 4/5] END ...metric=manhattan, n_neighbors=2;, score=0.793 total time=   0.0s\n",
      "[CV 5/5] END ...metric=manhattan, n_neighbors=2;, score=0.690 total time=   0.0s\n",
      "[CV 1/5] END ...metric=manhattan, n_neighbors=3;, score=0.793 total time=   0.0s\n",
      "[CV 2/5] END ...metric=manhattan, n_neighbors=3;, score=0.897 total time=   0.0s\n",
      "[CV 3/5] END ...metric=manhattan, n_neighbors=3;, score=0.897 total time=   0.0s\n",
      "[CV 4/5] END ...metric=manhattan, n_neighbors=3;, score=0.862 total time=   0.0s\n",
      "[CV 5/5] END ...metric=manhattan, n_neighbors=3;, score=0.724 total time=   0.0s\n",
      "[CV 1/5] END ...metric=manhattan, n_neighbors=4;, score=0.759 total time=   0.0s\n",
      "[CV 2/5] END ...metric=manhattan, n_neighbors=4;, score=0.828 total time=   0.0s\n",
      "[CV 3/5] END ...metric=manhattan, n_neighbors=4;, score=0.759 total time=   0.0s\n",
      "[CV 4/5] END ...metric=manhattan, n_neighbors=4;, score=0.724 total time=   0.0s\n",
      "[CV 5/5] END ...metric=manhattan, n_neighbors=4;, score=0.724 total time=   0.0s\n",
      "[CV 1/5] END ...metric=manhattan, n_neighbors=5;, score=0.759 total time=   0.0s\n",
      "[CV 2/5] END ...metric=manhattan, n_neighbors=5;, score=0.862 total time=   0.0s\n",
      "[CV 3/5] END ...metric=manhattan, n_neighbors=5;, score=0.931 total time=   0.0s\n",
      "[CV 4/5] END ...metric=manhattan, n_neighbors=5;, score=0.862 total time=   0.0s\n",
      "[CV 5/5] END ...metric=manhattan, n_neighbors=5;, score=0.759 total time=   0.0s\n"
     ]
    },
    {
     "data": {
      "text/html": [
       "<style>#sk-container-id-10 {color: black;}#sk-container-id-10 pre{padding: 0;}#sk-container-id-10 div.sk-toggleable {background-color: white;}#sk-container-id-10 label.sk-toggleable__label {cursor: pointer;display: block;width: 100%;margin-bottom: 0;padding: 0.3em;box-sizing: border-box;text-align: center;}#sk-container-id-10 label.sk-toggleable__label-arrow:before {content: \"▸\";float: left;margin-right: 0.25em;color: #696969;}#sk-container-id-10 label.sk-toggleable__label-arrow:hover:before {color: black;}#sk-container-id-10 div.sk-estimator:hover label.sk-toggleable__label-arrow:before {color: black;}#sk-container-id-10 div.sk-toggleable__content {max-height: 0;max-width: 0;overflow: hidden;text-align: left;background-color: #f0f8ff;}#sk-container-id-10 div.sk-toggleable__content pre {margin: 0.2em;color: black;border-radius: 0.25em;background-color: #f0f8ff;}#sk-container-id-10 input.sk-toggleable__control:checked~div.sk-toggleable__content {max-height: 200px;max-width: 100%;overflow: auto;}#sk-container-id-10 input.sk-toggleable__control:checked~label.sk-toggleable__label-arrow:before {content: \"▾\";}#sk-container-id-10 div.sk-estimator input.sk-toggleable__control:checked~label.sk-toggleable__label {background-color: #d4ebff;}#sk-container-id-10 div.sk-label input.sk-toggleable__control:checked~label.sk-toggleable__label {background-color: #d4ebff;}#sk-container-id-10 input.sk-hidden--visually {border: 0;clip: rect(1px 1px 1px 1px);clip: rect(1px, 1px, 1px, 1px);height: 1px;margin: -1px;overflow: hidden;padding: 0;position: absolute;width: 1px;}#sk-container-id-10 div.sk-estimator {font-family: monospace;background-color: #f0f8ff;border: 1px dotted black;border-radius: 0.25em;box-sizing: border-box;margin-bottom: 0.5em;}#sk-container-id-10 div.sk-estimator:hover {background-color: #d4ebff;}#sk-container-id-10 div.sk-parallel-item::after {content: \"\";width: 100%;border-bottom: 1px solid gray;flex-grow: 1;}#sk-container-id-10 div.sk-label:hover label.sk-toggleable__label {background-color: #d4ebff;}#sk-container-id-10 div.sk-serial::before {content: \"\";position: absolute;border-left: 1px solid gray;box-sizing: border-box;top: 0;bottom: 0;left: 50%;z-index: 0;}#sk-container-id-10 div.sk-serial {display: flex;flex-direction: column;align-items: center;background-color: white;padding-right: 0.2em;padding-left: 0.2em;position: relative;}#sk-container-id-10 div.sk-item {position: relative;z-index: 1;}#sk-container-id-10 div.sk-parallel {display: flex;align-items: stretch;justify-content: center;background-color: white;position: relative;}#sk-container-id-10 div.sk-item::before, #sk-container-id-10 div.sk-parallel-item::before {content: \"\";position: absolute;border-left: 1px solid gray;box-sizing: border-box;top: 0;bottom: 0;left: 50%;z-index: -1;}#sk-container-id-10 div.sk-parallel-item {display: flex;flex-direction: column;z-index: 1;position: relative;background-color: white;}#sk-container-id-10 div.sk-parallel-item:first-child::after {align-self: flex-end;width: 50%;}#sk-container-id-10 div.sk-parallel-item:last-child::after {align-self: flex-start;width: 50%;}#sk-container-id-10 div.sk-parallel-item:only-child::after {width: 0;}#sk-container-id-10 div.sk-dashed-wrapped {border: 1px dashed gray;margin: 0 0.4em 0.5em 0.4em;box-sizing: border-box;padding-bottom: 0.4em;background-color: white;}#sk-container-id-10 div.sk-label label {font-family: monospace;font-weight: bold;display: inline-block;line-height: 1.2em;}#sk-container-id-10 div.sk-label-container {text-align: center;}#sk-container-id-10 div.sk-container {/* jupyter's `normalize.less` sets `[hidden] { display: none; }` but bootstrap.min.css set `[hidden] { display: none !important; }` so we also need the `!important` here to be able to override the default hidden behavior on the sphinx rendered scikit-learn.org. See: https://github.com/scikit-learn/scikit-learn/issues/21755 */display: inline-block !important;position: relative;}#sk-container-id-10 div.sk-text-repr-fallback {display: none;}</style><div id=\"sk-container-id-10\" class=\"sk-top-container\"><div class=\"sk-text-repr-fallback\"><pre>GridSearchCV(cv=5, estimator=KNeighborsClassifier(metric=&#x27;hamming&#x27;),\n",
       "             param_grid={&#x27;metric&#x27;: (&#x27;hamming&#x27;, &#x27;euclidean&#x27;, &#x27;manhattan&#x27;),\n",
       "                         &#x27;n_neighbors&#x27;: [1, 2, 3, 4, 5]},\n",
       "             scoring=&#x27;recall&#x27;, verbose=3)</pre><b>In a Jupyter environment, please rerun this cell to show the HTML representation or trust the notebook. <br />On GitHub, the HTML representation is unable to render, please try loading this page with nbviewer.org.</b></div><div class=\"sk-container\" hidden><div class=\"sk-item sk-dashed-wrapped\"><div class=\"sk-label-container\"><div class=\"sk-label sk-toggleable\"><input class=\"sk-toggleable__control sk-hidden--visually\" id=\"sk-estimator-id-28\" type=\"checkbox\" ><label for=\"sk-estimator-id-28\" class=\"sk-toggleable__label sk-toggleable__label-arrow\">GridSearchCV</label><div class=\"sk-toggleable__content\"><pre>GridSearchCV(cv=5, estimator=KNeighborsClassifier(metric=&#x27;hamming&#x27;),\n",
       "             param_grid={&#x27;metric&#x27;: (&#x27;hamming&#x27;, &#x27;euclidean&#x27;, &#x27;manhattan&#x27;),\n",
       "                         &#x27;n_neighbors&#x27;: [1, 2, 3, 4, 5]},\n",
       "             scoring=&#x27;recall&#x27;, verbose=3)</pre></div></div></div><div class=\"sk-parallel\"><div class=\"sk-parallel-item\"><div class=\"sk-item\"><div class=\"sk-label-container\"><div class=\"sk-label sk-toggleable\"><input class=\"sk-toggleable__control sk-hidden--visually\" id=\"sk-estimator-id-29\" type=\"checkbox\" ><label for=\"sk-estimator-id-29\" class=\"sk-toggleable__label sk-toggleable__label-arrow\">estimator: KNeighborsClassifier</label><div class=\"sk-toggleable__content\"><pre>KNeighborsClassifier(metric=&#x27;hamming&#x27;)</pre></div></div></div><div class=\"sk-serial\"><div class=\"sk-item\"><div class=\"sk-estimator sk-toggleable\"><input class=\"sk-toggleable__control sk-hidden--visually\" id=\"sk-estimator-id-30\" type=\"checkbox\" ><label for=\"sk-estimator-id-30\" class=\"sk-toggleable__label sk-toggleable__label-arrow\">KNeighborsClassifier</label><div class=\"sk-toggleable__content\"><pre>KNeighborsClassifier(metric=&#x27;hamming&#x27;)</pre></div></div></div></div></div></div></div></div></div></div>"
      ],
      "text/plain": [
       "GridSearchCV(cv=5, estimator=KNeighborsClassifier(metric='hamming'),\n",
       "             param_grid={'metric': ('hamming', 'euclidean', 'manhattan'),\n",
       "                         'n_neighbors': [1, 2, 3, 4, 5]},\n",
       "             scoring='recall', verbose=3)"
      ]
     },
     "execution_count": 66,
     "metadata": {},
     "output_type": "execute_result"
    }
   ],
   "source": [
    "parameters = {'n_neighbors':[1,2,3,4,5], 'metric':('hamming', 'euclidean', 'manhattan')}\n",
    "classifier_knnp = KNeighborsClassifier()\n",
    "clf = GridSearchCV(classifier, parameters, scoring='recall', cv=5, verbose=3)\n",
    "clf.fit(X_train_r, y_train)"
   ]
  },
  {
   "cell_type": "code",
   "execution_count": 67,
   "id": "a8d52c50",
   "metadata": {},
   "outputs": [
    {
     "name": "stdout",
     "output_type": "stream",
     "text": [
      "Najveca preciznost:  0.9103448275862069\n",
      "Najbolji hiperparametri:  {'metric': 'euclidean', 'n_neighbors': 1}\n"
     ]
    }
   ],
   "source": [
    "print(\"Najveca preciznost: \", clf.best_score_)\n",
    "print(\"Najbolji hiperparametri: \", clf.best_params_)"
   ]
  },
  {
   "cell_type": "code",
   "execution_count": 68,
   "id": "37678522",
   "metadata": {},
   "outputs": [],
   "source": [
    "knn_pca = KNeighborsClassifier(n_neighbors=1, metric='euclidean')\n",
    "knn_pca.fit(X_train_r,y_train)\n",
    "y_pred_pca = knn_pca.predict(X_test_r)"
   ]
  },
  {
   "cell_type": "code",
   "execution_count": 70,
   "id": "dffbd6db",
   "metadata": {},
   "outputs": [
    {
     "name": "stdout",
     "output_type": "stream",
     "text": [
      "[[15  2]\n",
      " [ 2 15]]\n"
     ]
    },
    {
     "data": {
      "text/plain": [
       "<sklearn.metrics._plot.confusion_matrix.ConfusionMatrixDisplay at 0x12ffd6a90>"
      ]
     },
     "execution_count": 70,
     "metadata": {},
     "output_type": "execute_result"
    },
    {
     "data": {
      "image/png": "[encoded data removed]",
      "text/plain": [
       "<Figure size 640x480 with 2 Axes>"
      ]
     },
     "metadata": {},
     "output_type": "display_data"
    }
   ],
   "source": [
    "conf_mat = confusion_matrix(y_val, y_pred_pca, labels=knn_pca.classes_) # TN, FP\n",
    "print(conf_mat)  \n",
    "disp = ConfusionMatrixDisplay(confusion_matrix=conf_mat,  display_labels=knn_pca.classes_)\n",
    "disp.plot(cmap=\"PuBu\")"
   ]
  },
  {
   "cell_type": "code",
   "execution_count": 73,
   "id": "54e76dfb",
   "metadata": {},
   "outputs": [
    {
     "name": "stdout",
     "output_type": "stream",
     "text": [
      "precision:  0.8823529411764706\n",
      "accuracy:  0.8823529411764706\n",
      "sensitivity/recall:  0.8823529411764706\n",
      "F score:  0.8823529411764706\n"
     ]
    }
   ],
   "source": [
    "precision_pca = metrics.precision_score(y_val, y_pred_pca)\n",
    "accuracy_pca= metrics.accuracy_score(y_val, y_pred_pca)\n",
    "sensitivity_pca = metrics.recall_score(y_val, y_pred_pca)\n",
    "f_score_pca = metrics.f1_score(y_val, y_pred_pca)\n",
    "\n",
    "print('precision: ', precision_pca)\n",
    "print('accuracy: ', accuracy_pca)\n",
    "print('sensitivity/recall: ', sensitivity_pca)\n",
    "print('F score: ', f_score_pca)"
   ]
  },
  {
   "cell_type": "code",
   "execution_count": 76,
   "id": "d081c294",
   "metadata": {},
   "outputs": [
    {
     "name": "stdout",
     "output_type": "stream",
     "text": [
      "Fitting 5 folds for each of 16 candidates, totalling 80 fits\n",
      "[CV 1/5] END criterion=gini, max_depth=1, max_features=sqrt, n_estimators=10;, score=0.690 total time=   0.0s\n",
      "[CV 2/5] END criterion=gini, max_depth=1, max_features=sqrt, n_estimators=10;, score=0.724 total time=   0.0s\n",
      "[CV 3/5] END criterion=gini, max_depth=1, max_features=sqrt, n_estimators=10;, score=0.517 total time=   0.0s\n",
      "[CV 4/5] END criterion=gini, max_depth=1, max_features=sqrt, n_estimators=10;, score=0.586 total time=   0.0s\n",
      "[CV 5/5] END criterion=gini, max_depth=1, max_features=sqrt, n_estimators=10;, score=0.552 total time=   0.0s\n",
      "[CV 1/5] END criterion=gini, max_depth=1, max_features=sqrt, n_estimators=100;, score=0.655 total time=   0.2s\n",
      "[CV 2/5] END criterion=gini, max_depth=1, max_features=sqrt, n_estimators=100;, score=0.724 total time=   0.1s\n",
      "[CV 3/5] END criterion=gini, max_depth=1, max_features=sqrt, n_estimators=100;, score=0.655 total time=   0.1s\n",
      "[CV 4/5] END criterion=gini, max_depth=1, max_features=sqrt, n_estimators=100;, score=0.828 total time=   0.1s\n",
      "[CV 5/5] END criterion=gini, max_depth=1, max_features=sqrt, n_estimators=100;, score=0.483 total time=   0.2s\n",
      "[CV 1/5] END criterion=gini, max_depth=1, max_features=log2, n_estimators=10;, score=0.690 total time=   0.0s\n",
      "[CV 2/5] END criterion=gini, max_depth=1, max_features=log2, n_estimators=10;, score=0.724 total time=   0.0s\n",
      "[CV 3/5] END criterion=gini, max_depth=1, max_features=log2, n_estimators=10;, score=0.724 total time=   0.0s\n",
      "[CV 4/5] END criterion=gini, max_depth=1, max_features=log2, n_estimators=10;, score=0.759 total time=   0.0s\n",
      "[CV 5/5] END criterion=gini, max_depth=1, max_features=log2, n_estimators=10;, score=0.517 total time=   0.0s\n",
      "[CV 1/5] END criterion=gini, max_depth=1, max_features=log2, n_estimators=100;, score=0.655 total time=   0.1s\n",
      "[CV 2/5] END criterion=gini, max_depth=1, max_features=log2, n_estimators=100;, score=0.724 total time=   0.1s\n",
      "[CV 3/5] END criterion=gini, max_depth=1, max_features=log2, n_estimators=100;, score=0.655 total time=   0.1s\n",
      "[CV 4/5] END criterion=gini, max_depth=1, max_features=log2, n_estimators=100;, score=0.793 total time=   0.2s\n",
      "[CV 5/5] END criterion=gini, max_depth=1, max_features=log2, n_estimators=100;, score=0.483 total time=   0.2s\n",
      "[CV 1/5] END criterion=gini, max_depth=70, max_features=sqrt, n_estimators=10;, score=0.759 total time=   0.0s\n",
      "[CV 2/5] END criterion=gini, max_depth=70, max_features=sqrt, n_estimators=10;, score=0.793 total time=   0.0s\n",
      "[CV 3/5] END criterion=gini, max_depth=70, max_features=sqrt, n_estimators=10;, score=0.655 total time=   0.0s\n",
      "[CV 4/5] END criterion=gini, max_depth=70, max_features=sqrt, n_estimators=10;, score=0.828 total time=   0.0s\n",
      "[CV 5/5] END criterion=gini, max_depth=70, max_features=sqrt, n_estimators=10;, score=0.655 total time=   0.0s\n",
      "[CV 1/5] END criterion=gini, max_depth=70, max_features=sqrt, n_estimators=100;, score=0.793 total time=   0.2s\n",
      "[CV 2/5] END criterion=gini, max_depth=70, max_features=sqrt, n_estimators=100;, score=0.897 total time=   0.2s\n",
      "[CV 3/5] END criterion=gini, max_depth=70, max_features=sqrt, n_estimators=100;, score=0.793 total time=   0.2s\n",
      "[CV 4/5] END criterion=gini, max_depth=70, max_features=sqrt, n_estimators=100;, score=0.931 total time=   0.2s\n",
      "[CV 5/5] END criterion=gini, max_depth=70, max_features=sqrt, n_estimators=100;, score=0.793 total time=   0.2s\n",
      "[CV 1/5] END criterion=gini, max_depth=70, max_features=log2, n_estimators=10;, score=0.793 total time=   0.0s\n",
      "[CV 2/5] END criterion=gini, max_depth=70, max_features=log2, n_estimators=10;, score=0.828 total time=   0.0s\n",
      "[CV 3/5] END criterion=gini, max_depth=70, max_features=log2, n_estimators=10;, score=0.793 total time=   0.0s\n",
      "[CV 4/5] END criterion=gini, max_depth=70, max_features=log2, n_estimators=10;, score=0.931 total time=   0.0s\n",
      "[CV 5/5] END criterion=gini, max_depth=70, max_features=log2, n_estimators=10;, score=0.690 total time=   0.0s\n",
      "[CV 1/5] END criterion=gini, max_depth=70, max_features=log2, n_estimators=100;, score=0.793 total time=   0.3s\n",
      "[CV 2/5] END criterion=gini, max_depth=70, max_features=log2, n_estimators=100;, score=0.862 total time=   0.2s\n",
      "[CV 3/5] END criterion=gini, max_depth=70, max_features=log2, n_estimators=100;, score=0.828 total time=   0.2s\n",
      "[CV 4/5] END criterion=gini, max_depth=70, max_features=log2, n_estimators=100;, score=0.897 total time=   0.1s\n",
      "[CV 5/5] END criterion=gini, max_depth=70, max_features=log2, n_estimators=100;, score=0.793 total time=   0.2s\n",
      "[CV 1/5] END criterion=entropy, max_depth=1, max_features=sqrt, n_estimators=10;, score=0.586 total time=   0.0s\n",
      "[CV 2/5] END criterion=entropy, max_depth=1, max_features=sqrt, n_estimators=10;, score=0.655 total time=   0.0s\n",
      "[CV 3/5] END criterion=entropy, max_depth=1, max_features=sqrt, n_estimators=10;, score=0.517 total time=   0.0s\n",
      "[CV 4/5] END criterion=entropy, max_depth=1, max_features=sqrt, n_estimators=10;, score=0.655 total time=   0.0s\n",
      "[CV 5/5] END criterion=entropy, max_depth=1, max_features=sqrt, n_estimators=10;, score=0.655 total time=   0.0s\n",
      "[CV 1/5] END criterion=entropy, max_depth=1, max_features=sqrt, n_estimators=100;, score=0.655 total time=   0.1s\n",
      "[CV 2/5] END criterion=entropy, max_depth=1, max_features=sqrt, n_estimators=100;, score=0.724 total time=   0.2s\n",
      "[CV 3/5] END criterion=entropy, max_depth=1, max_features=sqrt, n_estimators=100;, score=0.621 total time=   0.1s\n",
      "[CV 4/5] END criterion=entropy, max_depth=1, max_features=sqrt, n_estimators=100;, score=0.793 total time=   0.1s\n",
      "[CV 5/5] END criterion=entropy, max_depth=1, max_features=sqrt, n_estimators=100;, score=0.448 total time=   0.1s\n",
      "[CV 1/5] END criterion=entropy, max_depth=1, max_features=log2, n_estimators=10;, score=0.690 total time=   0.0s\n",
      "[CV 2/5] END criterion=entropy, max_depth=1, max_features=log2, n_estimators=10;, score=0.724 total time=   0.0s\n",
      "[CV 3/5] END criterion=entropy, max_depth=1, max_features=log2, n_estimators=10;, score=0.655 total time=   0.0s\n",
      "[CV 4/5] END criterion=entropy, max_depth=1, max_features=log2, n_estimators=10;, score=0.828 total time=   0.0s\n",
      "[CV 5/5] END criterion=entropy, max_depth=1, max_features=log2, n_estimators=10;, score=0.379 total time=   0.0s\n",
      "[CV 1/5] END criterion=entropy, max_depth=1, max_features=log2, n_estimators=100;, score=0.621 total time=   0.2s\n",
      "[CV 2/5] END criterion=entropy, max_depth=1, max_features=log2, n_estimators=100;, score=0.724 total time=   0.2s\n",
      "[CV 3/5] END criterion=entropy, max_depth=1, max_features=log2, n_estimators=100;, score=0.586 total time=   0.1s\n",
      "[CV 4/5] END criterion=entropy, max_depth=1, max_features=log2, n_estimators=100;, score=0.793 total time=   0.1s\n",
      "[CV 5/5] END criterion=entropy, max_depth=1, max_features=log2, n_estimators=100;, score=0.414 total time=   0.1s\n",
      "[CV 1/5] END criterion=entropy, max_depth=70, max_features=sqrt, n_estimators=10;, score=0.655 total time=   0.0s\n",
      "[CV 2/5] END criterion=entropy, max_depth=70, max_features=sqrt, n_estimators=10;, score=0.897 total time=   0.0s\n",
      "[CV 3/5] END criterion=entropy, max_depth=70, max_features=sqrt, n_estimators=10;, score=0.724 total time=   0.0s\n",
      "[CV 4/5] END criterion=entropy, max_depth=70, max_features=sqrt, n_estimators=10;, score=0.897 total time=   0.0s\n",
      "[CV 5/5] END criterion=entropy, max_depth=70, max_features=sqrt, n_estimators=10;, score=0.724 total time=   0.0s\n",
      "[CV 1/5] END criterion=entropy, max_depth=70, max_features=sqrt, n_estimators=100;, score=0.793 total time=   0.2s\n",
      "[CV 2/5] END criterion=entropy, max_depth=70, max_features=sqrt, n_estimators=100;, score=0.897 total time=   0.1s\n",
      "[CV 3/5] END criterion=entropy, max_depth=70, max_features=sqrt, n_estimators=100;, score=0.862 total time=   0.2s\n",
      "[CV 4/5] END criterion=entropy, max_depth=70, max_features=sqrt, n_estimators=100;, score=0.931 total time=   0.1s\n",
      "[CV 5/5] END criterion=entropy, max_depth=70, max_features=sqrt, n_estimators=100;, score=0.793 total time=   0.2s\n",
      "[CV 1/5] END criterion=entropy, max_depth=70, max_features=log2, n_estimators=10;, score=0.793 total time=   0.0s\n",
      "[CV 2/5] END criterion=entropy, max_depth=70, max_features=log2, n_estimators=10;, score=0.793 total time=   0.0s\n",
      "[CV 3/5] END criterion=entropy, max_depth=70, max_features=log2, n_estimators=10;, score=0.724 total time=   0.0s\n",
      "[CV 4/5] END criterion=entropy, max_depth=70, max_features=log2, n_estimators=10;, score=0.897 total time=   0.0s\n",
      "[CV 5/5] END criterion=entropy, max_depth=70, max_features=log2, n_estimators=10;, score=0.690 total time=   0.0s\n"
     ]
    },
    {
     "name": "stdout",
     "output_type": "stream",
     "text": [
      "[CV 1/5] END criterion=entropy, max_depth=70, max_features=log2, n_estimators=100;, score=0.828 total time=   0.1s\n",
      "[CV 2/5] END criterion=entropy, max_depth=70, max_features=log2, n_estimators=100;, score=0.862 total time=   0.2s\n",
      "[CV 3/5] END criterion=entropy, max_depth=70, max_features=log2, n_estimators=100;, score=0.828 total time=   0.2s\n",
      "[CV 4/5] END criterion=entropy, max_depth=70, max_features=log2, n_estimators=100;, score=0.897 total time=   0.1s\n",
      "[CV 5/5] END criterion=entropy, max_depth=70, max_features=log2, n_estimators=100;, score=0.793 total time=   0.2s\n"
     ]
    },
    {
     "data": {
      "text/html": [
       "<style>#sk-container-id-12 {color: black;}#sk-container-id-12 pre{padding: 0;}#sk-container-id-12 div.sk-toggleable {background-color: white;}#sk-container-id-12 label.sk-toggleable__label {cursor: pointer;display: block;width: 100%;margin-bottom: 0;padding: 0.3em;box-sizing: border-box;text-align: center;}#sk-container-id-12 label.sk-toggleable__label-arrow:before {content: \"▸\";float: left;margin-right: 0.25em;color: #696969;}#sk-container-id-12 label.sk-toggleable__label-arrow:hover:before {color: black;}#sk-container-id-12 div.sk-estimator:hover label.sk-toggleable__label-arrow:before {color: black;}#sk-container-id-12 div.sk-toggleable__content {max-height: 0;max-width: 0;overflow: hidden;text-align: left;background-color: #f0f8ff;}#sk-container-id-12 div.sk-toggleable__content pre {margin: 0.2em;color: black;border-radius: 0.25em;background-color: #f0f8ff;}#sk-container-id-12 input.sk-toggleable__control:checked~div.sk-toggleable__content {max-height: 200px;max-width: 100%;overflow: auto;}#sk-container-id-12 input.sk-toggleable__control:checked~label.sk-toggleable__label-arrow:before {content: \"▾\";}#sk-container-id-12 div.sk-estimator input.sk-toggleable__control:checked~label.sk-toggleable__label {background-color: #d4ebff;}#sk-container-id-12 div.sk-label input.sk-toggleable__control:checked~label.sk-toggleable__label {background-color: #d4ebff;}#sk-container-id-12 input.sk-hidden--visually {border: 0;clip: rect(1px 1px 1px 1px);clip: rect(1px, 1px, 1px, 1px);height: 1px;margin: -1px;overflow: hidden;padding: 0;position: absolute;width: 1px;}#sk-container-id-12 div.sk-estimator {font-family: monospace;background-color: #f0f8ff;border: 1px dotted black;border-radius: 0.25em;box-sizing: border-box;margin-bottom: 0.5em;}#sk-container-id-12 div.sk-estimator:hover {background-color: #d4ebff;}#sk-container-id-12 div.sk-parallel-item::after {content: \"\";width: 100%;border-bottom: 1px solid gray;flex-grow: 1;}#sk-container-id-12 div.sk-label:hover label.sk-toggleable__label {background-color: #d4ebff;}#sk-container-id-12 div.sk-serial::before {content: \"\";position: absolute;border-left: 1px solid gray;box-sizing: border-box;top: 0;bottom: 0;left: 50%;z-index: 0;}#sk-container-id-12 div.sk-serial {display: flex;flex-direction: column;align-items: center;background-color: white;padding-right: 0.2em;padding-left: 0.2em;position: relative;}#sk-container-id-12 div.sk-item {position: relative;z-index: 1;}#sk-container-id-12 div.sk-parallel {display: flex;align-items: stretch;justify-content: center;background-color: white;position: relative;}#sk-container-id-12 div.sk-item::before, #sk-container-id-12 div.sk-parallel-item::before {content: \"\";position: absolute;border-left: 1px solid gray;box-sizing: border-box;top: 0;bottom: 0;left: 50%;z-index: -1;}#sk-container-id-12 div.sk-parallel-item {display: flex;flex-direction: column;z-index: 1;position: relative;background-color: white;}#sk-container-id-12 div.sk-parallel-item:first-child::after {align-self: flex-end;width: 50%;}#sk-container-id-12 div.sk-parallel-item:last-child::after {align-self: flex-start;width: 50%;}#sk-container-id-12 div.sk-parallel-item:only-child::after {width: 0;}#sk-container-id-12 div.sk-dashed-wrapped {border: 1px dashed gray;margin: 0 0.4em 0.5em 0.4em;box-sizing: border-box;padding-bottom: 0.4em;background-color: white;}#sk-container-id-12 div.sk-label label {font-family: monospace;font-weight: bold;display: inline-block;line-height: 1.2em;}#sk-container-id-12 div.sk-label-container {text-align: center;}#sk-container-id-12 div.sk-container {/* jupyter's `normalize.less` sets `[hidden] { display: none; }` but bootstrap.min.css set `[hidden] { display: none !important; }` so we also need the `!important` here to be able to override the default hidden behavior on the sphinx rendered scikit-learn.org. See: https://github.com/scikit-learn/scikit-learn/issues/21755 */display: inline-block !important;position: relative;}#sk-container-id-12 div.sk-text-repr-fallback {display: none;}</style><div id=\"sk-container-id-12\" class=\"sk-top-container\"><div class=\"sk-text-repr-fallback\"><pre>GridSearchCV(cv=5, estimator=RandomForestClassifier(),\n",
       "             param_grid={&#x27;criterion&#x27;: [&#x27;gini&#x27;, &#x27;entropy&#x27;], &#x27;max_depth&#x27;: [1, 70],\n",
       "                         &#x27;max_features&#x27;: [&#x27;sqrt&#x27;, &#x27;log2&#x27;],\n",
       "                         &#x27;n_estimators&#x27;: [10, 100]},\n",
       "             scoring=&#x27;recall&#x27;, verbose=3)</pre><b>In a Jupyter environment, please rerun this cell to show the HTML representation or trust the notebook. <br />On GitHub, the HTML representation is unable to render, please try loading this page with nbviewer.org.</b></div><div class=\"sk-container\" hidden><div class=\"sk-item sk-dashed-wrapped\"><div class=\"sk-label-container\"><div class=\"sk-label sk-toggleable\"><input class=\"sk-toggleable__control sk-hidden--visually\" id=\"sk-estimator-id-34\" type=\"checkbox\" ><label for=\"sk-estimator-id-34\" class=\"sk-toggleable__label sk-toggleable__label-arrow\">GridSearchCV</label><div class=\"sk-toggleable__content\"><pre>GridSearchCV(cv=5, estimator=RandomForestClassifier(),\n",
       "             param_grid={&#x27;criterion&#x27;: [&#x27;gini&#x27;, &#x27;entropy&#x27;], &#x27;max_depth&#x27;: [1, 70],\n",
       "                         &#x27;max_features&#x27;: [&#x27;sqrt&#x27;, &#x27;log2&#x27;],\n",
       "                         &#x27;n_estimators&#x27;: [10, 100]},\n",
       "             scoring=&#x27;recall&#x27;, verbose=3)</pre></div></div></div><div class=\"sk-parallel\"><div class=\"sk-parallel-item\"><div class=\"sk-item\"><div class=\"sk-label-container\"><div class=\"sk-label sk-toggleable\"><input class=\"sk-toggleable__control sk-hidden--visually\" id=\"sk-estimator-id-35\" type=\"checkbox\" ><label for=\"sk-estimator-id-35\" class=\"sk-toggleable__label sk-toggleable__label-arrow\">estimator: RandomForestClassifier</label><div class=\"sk-toggleable__content\"><pre>RandomForestClassifier()</pre></div></div></div><div class=\"sk-serial\"><div class=\"sk-item\"><div class=\"sk-estimator sk-toggleable\"><input class=\"sk-toggleable__control sk-hidden--visually\" id=\"sk-estimator-id-36\" type=\"checkbox\" ><label for=\"sk-estimator-id-36\" class=\"sk-toggleable__label sk-toggleable__label-arrow\">RandomForestClassifier</label><div class=\"sk-toggleable__content\"><pre>RandomForestClassifier()</pre></div></div></div></div></div></div></div></div></div></div>"
      ],
      "text/plain": [
       "GridSearchCV(cv=5, estimator=RandomForestClassifier(),\n",
       "             param_grid={'criterion': ['gini', 'entropy'], 'max_depth': [1, 70],\n",
       "                         'max_features': ['sqrt', 'log2'],\n",
       "                         'n_estimators': [10, 100]},\n",
       "             scoring='recall', verbose=3)"
      ]
     },
     "execution_count": 76,
     "metadata": {},
     "output_type": "execute_result"
    }
   ],
   "source": [
    "parameters = { 'n_estimators': [10, 100], 'max_features': ['sqrt', 'log2'], 'max_depth' : [1,70],\n",
    "    'criterion' :['gini', 'entropy']}\n",
    "classifier_rsf = RandomForestClassifier()\n",
    "clf_pca_rsf = GridSearchCV(classifier_rsf, parameters, scoring='recall', cv=5, verbose=3)\n",
    "clf_pca_rsf.fit(X_train_r, y_train)"
   ]
  },
  {
   "cell_type": "code",
   "execution_count": 77,
   "id": "1b858a19",
   "metadata": {},
   "outputs": [
    {
     "name": "stdout",
     "output_type": "stream",
     "text": [
      "Najveca senzitivnost  0.8551724137931036\n",
      "Najbolji hiperparametri:  {'criterion': 'entropy', 'max_depth': 70, 'max_features': 'sqrt', 'n_estimators': 100}\n"
     ]
    }
   ],
   "source": [
    "print(\"Najveca senzitivnost \", clf_pca_rsf.best_score_)\n",
    "print(\"Najbolji hiperparametri: \", clf_pca_rsf.best_params_)"
   ]
  },
  {
   "cell_type": "code",
   "execution_count": 79,
   "id": "93a27da4",
   "metadata": {},
   "outputs": [],
   "source": [
    "classifier_rsfp=RandomForestClassifier(random_state=42, n_estimators= 100, max_depth=70, criterion='entropy',max_features='sqrt', oob_score=True)\n",
    "classifier_rsfp.fit(X_train_r, y_train)\n",
    "y_pred_rsfp = classifier_rsfp.predict(X_test_r)"
   ]
  },
  {
   "cell_type": "code",
   "execution_count": 80,
   "id": "56c61dd9",
   "metadata": {},
   "outputs": [
    {
     "name": "stdout",
     "output_type": "stream",
     "text": [
      "[[17  0]\n",
      " [ 5 12]]\n"
     ]
    },
    {
     "data": {
      "text/plain": [
       "<sklearn.metrics._plot.confusion_matrix.ConfusionMatrixDisplay at 0x1308017d0>"
      ]
     },
     "execution_count": 80,
     "metadata": {},
     "output_type": "execute_result"
    },
    {
     "data": {
      "image/png": "[encoded data removed]",
      "text/plain": [
       "<Figure size 640x480 with 2 Axes>"
      ]
     },
     "metadata": {},
     "output_type": "display_data"
    }
   ],
   "source": [
    "conf_mat = confusion_matrix(y_val, y_pred_rsfp, labels=classifier_rsfp.classes_) # TN, FP\n",
    "print(conf_mat)  \n",
    "disp = ConfusionMatrixDisplay(confusion_matrix=conf_mat,  display_labels=classifier_rsfp.classes_)\n",
    "disp.plot(cmap=\"PuBu\")"
   ]
  },
  {
   "cell_type": "code",
   "execution_count": 83,
   "id": "249b8983",
   "metadata": {},
   "outputs": [
    {
     "name": "stdout",
     "output_type": "stream",
     "text": [
      "precision:  1.0\n",
      "accuracy:  0.8823529411764706\n",
      "sensitivity/recall:  0.7647058823529411\n",
      "F score:  0.8666666666666666\n"
     ]
    }
   ],
   "source": [
    "precision_pca_rsf = metrics.precision_score(y_val, y_pred_rsf)\n",
    "accuracy_pca_rsf= metrics.accuracy_score(y_val, y_pred_rsf)\n",
    "sensitivity_pca_rsf = metrics.recall_score(y_val, y_pred_rsf)\n",
    "f_score_pca_rsf = metrics.f1_score(y_val, y_pred_rsf)\n",
    "\n",
    "print('precision: ', precision_pca_rsf)\n",
    "print('accuracy: ', accuracy_pca_rsf)\n",
    "print('sensitivity/recall: ', sensitivity_pca_rsf)\n",
    "print('F score: ', f_score_pca_rsf)"
   ]
  },
  {
   "cell_type": "code",
   "execution_count": 89,
   "id": "15ca19b3",
   "metadata": {},
   "outputs": [
    {
     "name": "stdout",
     "output_type": "stream",
     "text": [
      "Fitting 5 folds for each of 12 candidates, totalling 60 fits\n",
      "[CV 1/5] END activation=tanh, hidden_layer_sizes=(10, 30, 10), max_iter=800, solver=sgd;, score=0.862 total time=   0.5s\n",
      "[CV 2/5] END activation=tanh, hidden_layer_sizes=(10, 30, 10), max_iter=800, solver=sgd;, score=0.931 total time=   0.5s\n",
      "[CV 3/5] END activation=tanh, hidden_layer_sizes=(10, 30, 10), max_iter=800, solver=sgd;, score=0.966 total time=   0.6s\n",
      "[CV 4/5] END activation=tanh, hidden_layer_sizes=(10, 30, 10), max_iter=800, solver=sgd;, score=0.931 total time=   0.6s\n",
      "[CV 5/5] END activation=tanh, hidden_layer_sizes=(10, 30, 10), max_iter=800, solver=sgd;, score=0.897 total time=   0.5s\n",
      "[CV 1/5] END activation=tanh, hidden_layer_sizes=(10, 30, 10), max_iter=800, solver=adam;, score=0.862 total time=   0.8s\n",
      "[CV 2/5] END activation=tanh, hidden_layer_sizes=(10, 30, 10), max_iter=800, solver=adam;, score=0.931 total time=   1.0s\n",
      "[CV 3/5] END activation=tanh, hidden_layer_sizes=(10, 30, 10), max_iter=800, solver=adam;, score=0.931 total time=   0.8s\n",
      "[CV 4/5] END activation=tanh, hidden_layer_sizes=(10, 30, 10), max_iter=800, solver=adam;, score=0.828 total time=   0.5s\n",
      "[CV 5/5] END activation=tanh, hidden_layer_sizes=(10, 30, 10), max_iter=800, solver=adam;, score=0.862 total time=   1.1s\n",
      "[CV 1/5] END activation=tanh, hidden_layer_sizes=25, max_iter=800, solver=sgd;, score=0.862 total time=   0.6s\n",
      "[CV 2/5] END activation=tanh, hidden_layer_sizes=25, max_iter=800, solver=sgd;, score=0.931 total time=   0.4s\n",
      "[CV 3/5] END activation=tanh, hidden_layer_sizes=25, max_iter=800, solver=sgd;, score=0.966 total time=   0.4s\n",
      "[CV 4/5] END activation=tanh, hidden_layer_sizes=25, max_iter=800, solver=sgd;, score=0.966 total time=   0.4s\n",
      "[CV 5/5] END activation=tanh, hidden_layer_sizes=25, max_iter=800, solver=sgd;, score=0.897 total time=   0.4s\n",
      "[CV 1/5] END activation=tanh, hidden_layer_sizes=25, max_iter=800, solver=adam;, score=0.862 total time=   0.3s\n",
      "[CV 2/5] END activation=tanh, hidden_layer_sizes=25, max_iter=800, solver=adam;, score=0.931 total time=   0.3s\n",
      "[CV 3/5] END activation=tanh, hidden_layer_sizes=25, max_iter=800, solver=adam;, score=0.966 total time=   0.3s\n",
      "[CV 4/5] END activation=tanh, hidden_layer_sizes=25, max_iter=800, solver=adam;, score=0.966 total time=   0.3s\n",
      "[CV 5/5] END activation=tanh, hidden_layer_sizes=25, max_iter=800, solver=adam;, score=0.897 total time=   0.3s\n",
      "[CV 1/5] END activation=tanh, hidden_layer_sizes=25, max_iter=800, solver=sgd;, score=0.862 total time=   0.5s\n",
      "[CV 2/5] END activation=tanh, hidden_layer_sizes=25, max_iter=800, solver=sgd;, score=0.931 total time=   0.4s\n",
      "[CV 3/5] END activation=tanh, hidden_layer_sizes=25, max_iter=800, solver=sgd;, score=0.966 total time=   0.4s\n",
      "[CV 4/5] END activation=tanh, hidden_layer_sizes=25, max_iter=800, solver=sgd;, score=0.966 total time=   0.4s\n",
      "[CV 5/5] END activation=tanh, hidden_layer_sizes=25, max_iter=800, solver=sgd;, score=0.897 total time=   0.5s\n",
      "[CV 1/5] END activation=tanh, hidden_layer_sizes=25, max_iter=800, solver=adam;, score=0.862 total time=   0.3s\n",
      "[CV 2/5] END activation=tanh, hidden_layer_sizes=25, max_iter=800, solver=adam;, score=0.931 total time=   0.4s\n",
      "[CV 3/5] END activation=tanh, hidden_layer_sizes=25, max_iter=800, solver=adam;, score=0.966 total time=   0.4s\n",
      "[CV 4/5] END activation=tanh, hidden_layer_sizes=25, max_iter=800, solver=adam;, score=0.966 total time=   0.3s\n",
      "[CV 5/5] END activation=tanh, hidden_layer_sizes=25, max_iter=800, solver=adam;, score=0.897 total time=   0.4s\n",
      "[CV 1/5] END activation=relu, hidden_layer_sizes=(10, 30, 10), max_iter=800, solver=sgd;, score=0.862 total time=   0.6s\n",
      "[CV 2/5] END activation=relu, hidden_layer_sizes=(10, 30, 10), max_iter=800, solver=sgd;, score=0.862 total time=   0.7s\n",
      "[CV 3/5] END activation=relu, hidden_layer_sizes=(10, 30, 10), max_iter=800, solver=sgd;, score=0.966 total time=   0.8s\n",
      "[CV 4/5] END activation=relu, hidden_layer_sizes=(10, 30, 10), max_iter=800, solver=sgd;, score=0.966 total time=   0.8s\n"
     ]
    },
    {
     "name": "stderr",
     "output_type": "stream",
     "text": [
      "/Users/neda/anaconda3/lib/python3.11/site-packages/sklearn/neural_network/_multilayer_perceptron.py:691: ConvergenceWarning: Stochastic Optimizer: Maximum iterations (800) reached and the optimization hasn't converged yet.\n",
      "  warnings.warn(\n"
     ]
    },
    {
     "name": "stdout",
     "output_type": "stream",
     "text": [
      "[CV 5/5] END activation=relu, hidden_layer_sizes=(10, 30, 10), max_iter=800, solver=sgd;, score=0.862 total time=   0.9s\n",
      "[CV 1/5] END activation=relu, hidden_layer_sizes=(10, 30, 10), max_iter=800, solver=adam;, score=0.862 total time=   0.9s\n"
     ]
    },
    {
     "name": "stderr",
     "output_type": "stream",
     "text": [
      "/Users/neda/anaconda3/lib/python3.11/site-packages/sklearn/neural_network/_multilayer_perceptron.py:691: ConvergenceWarning: Stochastic Optimizer: Maximum iterations (800) reached and the optimization hasn't converged yet.\n",
      "  warnings.warn(\n"
     ]
    },
    {
     "name": "stdout",
     "output_type": "stream",
     "text": [
      "[CV 2/5] END activation=relu, hidden_layer_sizes=(10, 30, 10), max_iter=800, solver=adam;, score=0.897 total time=   1.2s\n",
      "[CV 3/5] END activation=relu, hidden_layer_sizes=(10, 30, 10), max_iter=800, solver=adam;, score=0.966 total time=   1.0s\n"
     ]
    },
    {
     "name": "stderr",
     "output_type": "stream",
     "text": [
      "/Users/neda/anaconda3/lib/python3.11/site-packages/sklearn/neural_network/_multilayer_perceptron.py:691: ConvergenceWarning: Stochastic Optimizer: Maximum iterations (800) reached and the optimization hasn't converged yet.\n",
      "  warnings.warn(\n"
     ]
    },
    {
     "name": "stdout",
     "output_type": "stream",
     "text": [
      "[CV 4/5] END activation=relu, hidden_layer_sizes=(10, 30, 10), max_iter=800, solver=adam;, score=0.931 total time=   1.0s\n"
     ]
    },
    {
     "name": "stderr",
     "output_type": "stream",
     "text": [
      "/Users/neda/anaconda3/lib/python3.11/site-packages/sklearn/neural_network/_multilayer_perceptron.py:691: ConvergenceWarning: Stochastic Optimizer: Maximum iterations (800) reached and the optimization hasn't converged yet.\n",
      "  warnings.warn(\n"
     ]
    },
    {
     "name": "stdout",
     "output_type": "stream",
     "text": [
      "[CV 5/5] END activation=relu, hidden_layer_sizes=(10, 30, 10), max_iter=800, solver=adam;, score=0.897 total time=   1.0s\n",
      "[CV 1/5] END activation=relu, hidden_layer_sizes=25, max_iter=800, solver=sgd;, score=0.862 total time=   0.5s\n",
      "[CV 2/5] END activation=relu, hidden_layer_sizes=25, max_iter=800, solver=sgd;, score=0.931 total time=   0.5s\n"
     ]
    },
    {
     "name": "stderr",
     "output_type": "stream",
     "text": [
      "/Users/neda/anaconda3/lib/python3.11/site-packages/sklearn/neural_network/_multilayer_perceptron.py:691: ConvergenceWarning: Stochastic Optimizer: Maximum iterations (800) reached and the optimization hasn't converged yet.\n",
      "  warnings.warn(\n"
     ]
    },
    {
     "name": "stdout",
     "output_type": "stream",
     "text": [
      "[CV 3/5] END activation=relu, hidden_layer_sizes=25, max_iter=800, solver=sgd;, score=0.966 total time=   0.6s\n",
      "[CV 4/5] END activation=relu, hidden_layer_sizes=25, max_iter=800, solver=sgd;, score=0.966 total time=   0.6s\n",
      "[CV 5/5] END activation=relu, hidden_layer_sizes=25, max_iter=800, solver=sgd;, score=0.862 total time=   0.5s\n",
      "[CV 1/5] END activation=relu, hidden_layer_sizes=25, max_iter=800, solver=adam;, score=0.862 total time=   0.4s\n",
      "[CV 2/5] END activation=relu, hidden_layer_sizes=25, max_iter=800, solver=adam;, score=0.931 total time=   0.5s\n",
      "[CV 3/5] END activation=relu, hidden_layer_sizes=25, max_iter=800, solver=adam;, score=0.966 total time=   0.5s\n",
      "[CV 4/5] END activation=relu, hidden_layer_sizes=25, max_iter=800, solver=adam;, score=0.931 total time=   0.4s\n",
      "[CV 5/5] END activation=relu, hidden_layer_sizes=25, max_iter=800, solver=adam;, score=0.897 total time=   0.4s\n",
      "[CV 1/5] END activation=relu, hidden_layer_sizes=25, max_iter=800, solver=sgd;, score=0.862 total time=   0.6s\n",
      "[CV 2/5] END activation=relu, hidden_layer_sizes=25, max_iter=800, solver=sgd;, score=0.931 total time=   0.5s\n",
      "[CV 3/5] END activation=relu, hidden_layer_sizes=25, max_iter=800, solver=sgd;, score=0.931 total time=   0.5s\n",
      "[CV 4/5] END activation=relu, hidden_layer_sizes=25, max_iter=800, solver=sgd;, score=0.897 total time=   0.5s\n",
      "[CV 5/5] END activation=relu, hidden_layer_sizes=25, max_iter=800, solver=sgd;, score=0.862 total time=   0.5s\n",
      "[CV 1/5] END activation=relu, hidden_layer_sizes=25, max_iter=800, solver=adam;, score=0.862 total time=   0.5s\n",
      "[CV 2/5] END activation=relu, hidden_layer_sizes=25, max_iter=800, solver=adam;, score=0.931 total time=   0.5s\n",
      "[CV 3/5] END activation=relu, hidden_layer_sizes=25, max_iter=800, solver=adam;, score=0.966 total time=   0.5s\n",
      "[CV 4/5] END activation=relu, hidden_layer_sizes=25, max_iter=800, solver=adam;, score=0.966 total time=   0.5s\n",
      "[CV 5/5] END activation=relu, hidden_layer_sizes=25, max_iter=800, solver=adam;, score=0.897 total time=   0.4s\n"
     ]
    },
    {
     "data": {
      "text/html": [
       "<style>#sk-container-id-17 {color: black;}#sk-container-id-17 pre{padding: 0;}#sk-container-id-17 div.sk-toggleable {background-color: white;}#sk-container-id-17 label.sk-toggleable__label {cursor: pointer;display: block;width: 100%;margin-bottom: 0;padding: 0.3em;box-sizing: border-box;text-align: center;}#sk-container-id-17 label.sk-toggleable__label-arrow:before {content: \"▸\";float: left;margin-right: 0.25em;color: #696969;}#sk-container-id-17 label.sk-toggleable__label-arrow:hover:before {color: black;}#sk-container-id-17 div.sk-estimator:hover label.sk-toggleable__label-arrow:before {color: black;}#sk-container-id-17 div.sk-toggleable__content {max-height: 0;max-width: 0;overflow: hidden;text-align: left;background-color: #f0f8ff;}#sk-container-id-17 div.sk-toggleable__content pre {margin: 0.2em;color: black;border-radius: 0.25em;background-color: #f0f8ff;}#sk-container-id-17 input.sk-toggleable__control:checked~div.sk-toggleable__content {max-height: 200px;max-width: 100%;overflow: auto;}#sk-container-id-17 input.sk-toggleable__control:checked~label.sk-toggleable__label-arrow:before {content: \"▾\";}#sk-container-id-17 div.sk-estimator input.sk-toggleable__control:checked~label.sk-toggleable__label {background-color: #d4ebff;}#sk-container-id-17 div.sk-label input.sk-toggleable__control:checked~label.sk-toggleable__label {background-color: #d4ebff;}#sk-container-id-17 input.sk-hidden--visually {border: 0;clip: rect(1px 1px 1px 1px);clip: rect(1px, 1px, 1px, 1px);height: 1px;margin: -1px;overflow: hidden;padding: 0;position: absolute;width: 1px;}#sk-container-id-17 div.sk-estimator {font-family: monospace;background-color: #f0f8ff;border: 1px dotted black;border-radius: 0.25em;box-sizing: border-box;margin-bottom: 0.5em;}#sk-container-id-17 div.sk-estimator:hover {background-color: #d4ebff;}#sk-container-id-17 div.sk-parallel-item::after {content: \"\";width: 100%;border-bottom: 1px solid gray;flex-grow: 1;}#sk-container-id-17 div.sk-label:hover label.sk-toggleable__label {background-color: #d4ebff;}#sk-container-id-17 div.sk-serial::before {content: \"\";position: absolute;border-left: 1px solid gray;box-sizing: border-box;top: 0;bottom: 0;left: 50%;z-index: 0;}#sk-container-id-17 div.sk-serial {display: flex;flex-direction: column;align-items: center;background-color: white;padding-right: 0.2em;padding-left: 0.2em;position: relative;}#sk-container-id-17 div.sk-item {position: relative;z-index: 1;}#sk-container-id-17 div.sk-parallel {display: flex;align-items: stretch;justify-content: center;background-color: white;position: relative;}#sk-container-id-17 div.sk-item::before, #sk-container-id-17 div.sk-parallel-item::before {content: \"\";position: absolute;border-left: 1px solid gray;box-sizing: border-box;top: 0;bottom: 0;left: 50%;z-index: -1;}#sk-container-id-17 div.sk-parallel-item {display: flex;flex-direction: column;z-index: 1;position: relative;background-color: white;}#sk-container-id-17 div.sk-parallel-item:first-child::after {align-self: flex-end;width: 50%;}#sk-container-id-17 div.sk-parallel-item:last-child::after {align-self: flex-start;width: 50%;}#sk-container-id-17 div.sk-parallel-item:only-child::after {width: 0;}#sk-container-id-17 div.sk-dashed-wrapped {border: 1px dashed gray;margin: 0 0.4em 0.5em 0.4em;box-sizing: border-box;padding-bottom: 0.4em;background-color: white;}#sk-container-id-17 div.sk-label label {font-family: monospace;font-weight: bold;display: inline-block;line-height: 1.2em;}#sk-container-id-17 div.sk-label-container {text-align: center;}#sk-container-id-17 div.sk-container {/* jupyter's `normalize.less` sets `[hidden] { display: none; }` but bootstrap.min.css set `[hidden] { display: none !important; }` so we also need the `!important` here to be able to override the default hidden behavior on the sphinx rendered scikit-learn.org. See: https://github.com/scikit-learn/scikit-learn/issues/21755 */display: inline-block !important;position: relative;}#sk-container-id-17 div.sk-text-repr-fallback {display: none;}</style><div id=\"sk-container-id-17\" class=\"sk-top-container\"><div class=\"sk-text-repr-fallback\"><pre>GridSearchCV(cv=5, estimator=MLPClassifier(),\n",
       "             param_grid={&#x27;activation&#x27;: [&#x27;tanh&#x27;, &#x27;relu&#x27;],\n",
       "                         &#x27;hidden_layer_sizes&#x27;: [(10, 30, 10), 25, 25],\n",
       "                         &#x27;max_iter&#x27;: [800], &#x27;solver&#x27;: [&#x27;sgd&#x27;, &#x27;adam&#x27;]},\n",
       "             scoring=&#x27;recall&#x27;, verbose=3)</pre><b>In a Jupyter environment, please rerun this cell to show the HTML representation or trust the notebook. <br />On GitHub, the HTML representation is unable to render, please try loading this page with nbviewer.org.</b></div><div class=\"sk-container\" hidden><div class=\"sk-item sk-dashed-wrapped\"><div class=\"sk-label-container\"><div class=\"sk-label sk-toggleable\"><input class=\"sk-toggleable__control sk-hidden--visually\" id=\"sk-estimator-id-49\" type=\"checkbox\" ><label for=\"sk-estimator-id-49\" class=\"sk-toggleable__label sk-toggleable__label-arrow\">GridSearchCV</label><div class=\"sk-toggleable__content\"><pre>GridSearchCV(cv=5, estimator=MLPClassifier(),\n",
       "             param_grid={&#x27;activation&#x27;: [&#x27;tanh&#x27;, &#x27;relu&#x27;],\n",
       "                         &#x27;hidden_layer_sizes&#x27;: [(10, 30, 10), 25, 25],\n",
       "                         &#x27;max_iter&#x27;: [800], &#x27;solver&#x27;: [&#x27;sgd&#x27;, &#x27;adam&#x27;]},\n",
       "             scoring=&#x27;recall&#x27;, verbose=3)</pre></div></div></div><div class=\"sk-parallel\"><div class=\"sk-parallel-item\"><div class=\"sk-item\"><div class=\"sk-label-container\"><div class=\"sk-label sk-toggleable\"><input class=\"sk-toggleable__control sk-hidden--visually\" id=\"sk-estimator-id-50\" type=\"checkbox\" ><label for=\"sk-estimator-id-50\" class=\"sk-toggleable__label sk-toggleable__label-arrow\">estimator: MLPClassifier</label><div class=\"sk-toggleable__content\"><pre>MLPClassifier()</pre></div></div></div><div class=\"sk-serial\"><div class=\"sk-item\"><div class=\"sk-estimator sk-toggleable\"><input class=\"sk-toggleable__control sk-hidden--visually\" id=\"sk-estimator-id-51\" type=\"checkbox\" ><label for=\"sk-estimator-id-51\" class=\"sk-toggleable__label sk-toggleable__label-arrow\">MLPClassifier</label><div class=\"sk-toggleable__content\"><pre>MLPClassifier()</pre></div></div></div></div></div></div></div></div></div></div>"
      ],
      "text/plain": [
       "GridSearchCV(cv=5, estimator=MLPClassifier(),\n",
       "             param_grid={'activation': ['tanh', 'relu'],\n",
       "                         'hidden_layer_sizes': [(10, 30, 10), 25, 25],\n",
       "                         'max_iter': [800], 'solver': ['sgd', 'adam']},\n",
       "             scoring='recall', verbose=3)"
      ]
     },
     "execution_count": 89,
     "metadata": {},
     "output_type": "execute_result"
    }
   ],
   "source": [
    "parameters_nnp = {'hidden_layer_sizes':[(10,30,10) ,(25), (25)], 'solver':['sgd','adam'],\n",
    "                 'activation':['tanh', 'relu'], 'max_iter':[800]}\n",
    "classifier_nnp = MLPClassifier()\n",
    "clf = GridSearchCV(classifier_nnp, parameters_nnp, scoring='recall', cv=5, verbose=3)\n",
    "clf.fit(X_train_r, y_train)"
   ]
  },
  {
   "cell_type": "code",
   "execution_count": 91,
   "id": "954b9d57",
   "metadata": {},
   "outputs": [
    {
     "name": "stdout",
     "output_type": "stream",
     "text": [
      "Najveca senzitivnost  0.9241379310344829\n",
      "Najbolji hiperparametri:  {'activation': 'tanh', 'hidden_layer_sizes': 25, 'max_iter': 800, 'solver': 'sgd'}\n"
     ]
    }
   ],
   "source": [
    "print(\"Najveca senzitivnost \", clf.best_score_)\n",
    "print(\"Najbolji hiperparametri: \", clf.best_params_)"
   ]
  },
  {
   "cell_type": "code",
   "execution_count": 101,
   "id": "a9f3ee74",
   "metadata": {},
   "outputs": [],
   "source": [
    "classifier_nnp = MLPClassifier(hidden_layer_sizes =(10,20,10),max_iter = 800, activation = 'tanh', solver='sgd')\n",
    "classifier_nnp.fit(X_train_r,y_train)\n",
    "y_pred_nnp = classifier_nnp.predict(X_test_r)"
   ]
  },
  {
   "cell_type": "code",
   "execution_count": 102,
   "id": "11892e31",
   "metadata": {},
   "outputs": [
    {
     "name": "stdout",
     "output_type": "stream",
     "text": [
      "[[17  0]\n",
      " [ 4 13]]\n"
     ]
    },
    {
     "data": {
      "text/plain": [
       "<sklearn.metrics._plot.confusion_matrix.ConfusionMatrixDisplay at 0x1311a57d0>"
      ]
     },
     "execution_count": 102,
     "metadata": {},
     "output_type": "execute_result"
    },
    {
     "data": {
      "image/png": "[encoded data removed]",
      "text/plain": [
       "<Figure size 640x480 with 2 Axes>"
      ]
     },
     "metadata": {},
     "output_type": "display_data"
    }
   ],
   "source": [
    "conf_mat = confusion_matrix(y_val, y_pred_nnp, labels=classifier_nnp.classes_) # TN, FP\n",
    "print(conf_mat)  \n",
    "disp = ConfusionMatrixDisplay(confusion_matrix=conf_mat,  display_labels=classifier_nnp.classes_)\n",
    "disp.plot(cmap=\"PuBu\")"
   ]
  },
  {
   "cell_type": "code",
   "execution_count": 103,
   "id": "6a7af5c7",
   "metadata": {},
   "outputs": [
    {
     "name": "stdout",
     "output_type": "stream",
     "text": [
      "precision:  1.0\n",
      "accuracy:  0.8823529411764706\n",
      "sensitivity/recall:  0.7647058823529411\n",
      "F score:  0.8666666666666666\n"
     ]
    }
   ],
   "source": [
    "precision_nnp = metrics.precision_score(y_val, y_pred_nnp)\n",
    "accuracy_nnp = metrics.accuracy_score(y_val, y_pred_nnp)\n",
    "sensitivity_nnp = metrics.recall_score(y_val, y_pred_nnp)\n",
    "f_score_nnp = metrics.f1_score(y_val, y_pred_nnp)\n",
    "\n",
    "print('precision: ', precision_nnp)\n",
    "print('accuracy: ', accuracy_nnp)\n",
    "print('sensitivity/recall: ', sensitivity_nnp)\n",
    "print('F score: ', f_score_nnp)"
   ]
  },
  {
   "cell_type": "code",
   "execution_count": 104,
   "id": "1e4e321c",
   "metadata": {},
   "outputs": [],
   "source": [
    "s = StandardScaler()\n",
    "s.fit(X_train1)\n",
    "X_train1_std = s.transform(X_train1)\n",
    "X_test_std = s.transform(X_test)\n",
    "X_train1_std = pd.DataFrame(X_train1_std)\n",
    "X_test_std = pd.DataFrame(X_test_std)\n",
    "X_train1_std.columns = list(X.columns)\n",
    "X_test_std.columns = list(X.columns)"
   ]
  },
  {
   "cell_type": "code",
   "execution_count": 122,
   "id": "c4a2f894",
   "metadata": {},
   "outputs": [],
   "source": [
    "classifier_final=RandomForestClassifier(random_state=42, n_estimators= 100, max_depth=8, criterion='gini',max_samples=100, oob_score=True)\n",
    "classifier_final.fit(X_train1_std, y_train1)\n",
    "y_pred_final = classifier_final.predict(X_test_std)"
   ]
  },
  {
   "cell_type": "code",
   "execution_count": 123,
   "id": "5a2e4b04",
   "metadata": {},
   "outputs": [
    {
     "name": "stdout",
     "output_type": "stream",
     "text": [
      "[[18  1]\n",
      " [ 2 17]]\n"
     ]
    },
    {
     "data": {
      "text/plain": [
       "<sklearn.metrics._plot.confusion_matrix.ConfusionMatrixDisplay at 0x131274b10>"
      ]
     },
     "execution_count": 123,
     "metadata": {},
     "output_type": "execute_result"
    },
    {
     "data": {
      "image/png": "[encoded data removed]",
      "text/plain": [
       "<Figure size 640x480 with 2 Axes>"
      ]
     },
     "metadata": {},
     "output_type": "display_data"
    }
   ],
   "source": [
    "conf_mat = confusion_matrix(y_test, y_pred_final, labels=classifier_final.classes_) # TN, FP\n",
    "print(conf_mat)  \n",
    "disp = ConfusionMatrixDisplay(confusion_matrix=conf_mat,  display_labels=classifier_final.classes_)\n",
    "disp.plot(cmap=\"PuBu\")"
   ]
  },
  {
   "cell_type": "code",
   "execution_count": 108,
   "id": "c60fb39c",
   "metadata": {},
   "outputs": [
    {
     "name": "stdout",
     "output_type": "stream",
     "text": [
      "precision:  0.9444444444444444\n",
      "accuracy:  0.9210526315789473\n",
      "sensitivity/recall:  0.8947368421052632\n",
      "F score:  0.918918918918919\n"
     ]
    }
   ],
   "source": [
    "precision_final = metrics.precision_score(y_test, y_pred_final)\n",
    "accuracy_final = metrics.accuracy_score(y_test, y_pred_final)\n",
    "sensitivity_final = metrics.recall_score(y_test, y_pred_final)\n",
    "f_score_final = metrics.f1_score(y_test, y_pred_final)\n",
    "\n",
    "print('precision: ', precision_final)\n",
    "print('accuracy: ', accuracy_final)\n",
    "print('sensitivity/recall: ', sensitivity_final)\n",
    "print('F score: ', f_score_final)"
   ]
  },
  {
   "cell_type": "code",
   "execution_count": 124,
   "id": "89a6e73b",
   "metadata": {},
   "outputs": [],
   "source": [
    "pca1 = PCA(n_components=0.9)\n",
    "pca1.fit(X_train1)\n",
    "X_train1_r = pca.transform(X_train1_std)\n",
    "X_test1_r = pca.transform(X_test_std)"
   ]
  },
  {
   "cell_type": "code",
   "execution_count": 125,
   "id": "e4f286a9",
   "metadata": {},
   "outputs": [],
   "source": [
    "classifier_final1=RandomForestClassifier(random_state=42, n_estimators= 100, max_depth=8, criterion='gini',max_samples=100, oob_score=True)\n",
    "classifier_final1.fit(X_train1_r, y_train1)\n",
    "y_pred_final1 = classifier_final1.predict(X_test1_r)"
   ]
  },
  {
   "cell_type": "code",
   "execution_count": 126,
   "id": "2e3431d6",
   "metadata": {},
   "outputs": [
    {
     "name": "stdout",
     "output_type": "stream",
     "text": [
      "[[19  0]\n",
      " [ 3 16]]\n"
     ]
    },
    {
     "data": {
      "text/plain": [
       "<sklearn.metrics._plot.confusion_matrix.ConfusionMatrixDisplay at 0x1319c5510>"
      ]
     },
     "execution_count": 126,
     "metadata": {},
     "output_type": "execute_result"
    },
    {
     "data": {
      "image/png": "[encoded data removed]",
      "text/plain": [
       "<Figure size 640x480 with 2 Axes>"
      ]
     },
     "metadata": {},
     "output_type": "display_data"
    }
   ],
   "source": [
    "conf_mat = confusion_matrix(y_test, y_pred_final1, labels=classifier_final1.classes_) # TN, FP\n",
    "print(conf_mat)  \n",
    "disp = ConfusionMatrixDisplay(confusion_matrix=conf_mat,  display_labels=classifier_final1.classes_)\n",
    "disp.plot(cmap=\"PuBu\")"
   ]
  },
  {
   "cell_type": "code",
   "execution_count": 114,
   "id": "4341a126",
   "metadata": {},
   "outputs": [
    {
     "name": "stdout",
     "output_type": "stream",
     "text": [
      "precision:  1.0\n",
      "accuracy:  0.9210526315789473\n",
      "sensitivity/recall:  0.8421052631578947\n",
      "F score:  0.9142857142857143\n"
     ]
    }
   ],
   "source": [
    "precision_final1 = metrics.precision_score(y_test, y_pred_final1)\n",
    "accuracy_final1 = metrics.accuracy_score(y_test, y_pred_final1)\n",
    "sensitivity_final1 = metrics.recall_score(y_test, y_pred_final1)\n",
    "f_score_final1 = metrics.f1_score(y_test, y_pred_final1)\n",
    "\n",
    "print('precision: ', precision_final1)\n",
    "print('accuracy: ', accuracy_final1)\n",
    "print('sensitivity/recall: ', sensitivity_final1)\n",
    "print('F score: ', f_score_final1)"
   ]
  },
  {
   "cell_type": "code",
   "execution_count": 127,
   "id": "500eb940",
   "metadata": {},
   "outputs": [],
   "source": [
    "knn_pca1 = KNeighborsClassifier(n_neighbors=1, metric='euclidean')\n",
    "knn_pca1.fit(X_train1_r,y_train1)\n",
    "y_pred_pca_knn = knn_pca1.predict(X_test1_r)"
   ]
  },
  {
   "cell_type": "code",
   "execution_count": 128,
   "id": "935be11b",
   "metadata": {},
   "outputs": [
    {
     "name": "stdout",
     "output_type": "stream",
     "text": [
      "[[15  4]\n",
      " [ 1 18]]\n"
     ]
    },
    {
     "data": {
      "text/plain": [
       "<sklearn.metrics._plot.confusion_matrix.ConfusionMatrixDisplay at 0x132a52490>"
      ]
     },
     "execution_count": 128,
     "metadata": {},
     "output_type": "execute_result"
    },
    {
     "data": {
      "image/png": "[encoded data removed]",
      "text/plain": [
       "<Figure size 640x480 with 2 Axes>"
      ]
     },
     "metadata": {},
     "output_type": "display_data"
    }
   ],
   "source": [
    "conf_mat = confusion_matrix(y_test, y_pred_pca_knn, labels=knn_pca1.classes_) # TN, FP\n",
    "print(conf_mat)  \n",
    "disp = ConfusionMatrixDisplay(confusion_matrix=conf_mat,  display_labels=knn_pca1.classes_)\n",
    "disp.plot(cmap=\"PuBu\")"
   ]
  },
  {
   "cell_type": "code",
   "execution_count": 129,
   "id": "9ed05036",
   "metadata": {},
   "outputs": [
    {
     "name": "stdout",
     "output_type": "stream",
     "text": [
      "precision:  0.8181818181818182\n",
      "accuracy:  0.868421052631579\n",
      "sensitivity/recall:  0.9473684210526315\n",
      "F score:  0.8780487804878049\n"
     ]
    }
   ],
   "source": [
    "precision_final_knn = metrics.precision_score(y_test, y_pred_pca_knn)\n",
    "accuracy_final_knn = metrics.accuracy_score(y_test, y_pred_pca_knn)\n",
    "sensitivity_final_knn = metrics.recall_score(y_test, y_pred_pca_knn)\n",
    "f_score_final_knn = metrics.f1_score(y_test, y_pred_pca_knn)\n",
    "\n",
    "print('precision: ', precision_final_knn)\n",
    "print('accuracy: ', accuracy_final_knn)\n",
    "print('sensitivity/recall: ', sensitivity_final_knn)\n",
    "print('F score: ', f_score_final_knn)"
   ]
  }
 ],
 "metadata": {
  "kernelspec": {
   "display_name": "Python 3 (ipykernel)",
   "language": "python",
   "name": "python3"
  },
  "language_info": {
   "codemirror_mode": {
    "name": "ipython",
    "version": 3
   },
   "file_extension": ".py",
   "mimetype": "text/x-python",
   "name": "python",
   "nbconvert_exporter": "python",
   "pygments_lexer": "ipython3",
   "version": "3.11.5"
  }
 },
 "nbformat": 4,
 "nbformat_minor": 5
}
